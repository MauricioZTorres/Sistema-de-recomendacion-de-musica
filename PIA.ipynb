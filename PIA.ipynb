{
 "cells": [
  {
   "cell_type": "markdown",
   "id": "a171e69d",
   "metadata": {},
   "source": [
    "## El primer paso del proyecto es importar el/los datasets que nos ayudaran a la elaboracion del proyecto"
   ]
  },
  {
   "cell_type": "code",
   "execution_count": 1,
   "id": "5c402442",
   "metadata": {},
   "outputs": [],
   "source": [
    "import pandas as pd"
   ]
  },
  {
   "cell_type": "code",
   "execution_count": 2,
   "id": "8aef2c4c",
   "metadata": {},
   "outputs": [],
   "source": [
    "df = pd.read_csv(\"./oro?/triplets_file.csv\")\n",
    "df_songs = pd.read_csv(\"./oro?/song_data.csv\")"
   ]
  },
  {
   "cell_type": "code",
   "execution_count": 3,
   "id": "c27e78bb",
   "metadata": {},
   "outputs": [
    {
     "data": {
      "text/html": [
       "<div>\n",
       "<style scoped>\n",
       "    .dataframe tbody tr th:only-of-type {\n",
       "        vertical-align: middle;\n",
       "    }\n",
       "\n",
       "    .dataframe tbody tr th {\n",
       "        vertical-align: top;\n",
       "    }\n",
       "\n",
       "    .dataframe thead th {\n",
       "        text-align: right;\n",
       "    }\n",
       "</style>\n",
       "<table border=\"1\" class=\"dataframe\">\n",
       "  <thead>\n",
       "    <tr style=\"text-align: right;\">\n",
       "      <th></th>\n",
       "      <th>user_id</th>\n",
       "      <th>song_id</th>\n",
       "      <th>listen_count</th>\n",
       "    </tr>\n",
       "  </thead>\n",
       "  <tbody>\n",
       "    <tr>\n",
       "      <th>0</th>\n",
       "      <td>b80344d063b5ccb3212f76538f3d9e43d87dca9e</td>\n",
       "      <td>SOAKIMP12A8C130995</td>\n",
       "      <td>1</td>\n",
       "    </tr>\n",
       "    <tr>\n",
       "      <th>1</th>\n",
       "      <td>b80344d063b5ccb3212f76538f3d9e43d87dca9e</td>\n",
       "      <td>SOBBMDR12A8C13253B</td>\n",
       "      <td>2</td>\n",
       "    </tr>\n",
       "    <tr>\n",
       "      <th>2</th>\n",
       "      <td>b80344d063b5ccb3212f76538f3d9e43d87dca9e</td>\n",
       "      <td>SOBXHDL12A81C204C0</td>\n",
       "      <td>1</td>\n",
       "    </tr>\n",
       "    <tr>\n",
       "      <th>3</th>\n",
       "      <td>b80344d063b5ccb3212f76538f3d9e43d87dca9e</td>\n",
       "      <td>SOBYHAJ12A6701BF1D</td>\n",
       "      <td>1</td>\n",
       "    </tr>\n",
       "    <tr>\n",
       "      <th>4</th>\n",
       "      <td>b80344d063b5ccb3212f76538f3d9e43d87dca9e</td>\n",
       "      <td>SODACBL12A8C13C273</td>\n",
       "      <td>1</td>\n",
       "    </tr>\n",
       "  </tbody>\n",
       "</table>\n",
       "</div>"
      ],
      "text/plain": [
       "                                    user_id             song_id  listen_count\n",
       "0  b80344d063b5ccb3212f76538f3d9e43d87dca9e  SOAKIMP12A8C130995             1\n",
       "1  b80344d063b5ccb3212f76538f3d9e43d87dca9e  SOBBMDR12A8C13253B             2\n",
       "2  b80344d063b5ccb3212f76538f3d9e43d87dca9e  SOBXHDL12A81C204C0             1\n",
       "3  b80344d063b5ccb3212f76538f3d9e43d87dca9e  SOBYHAJ12A6701BF1D             1\n",
       "4  b80344d063b5ccb3212f76538f3d9e43d87dca9e  SODACBL12A8C13C273             1"
      ]
     },
     "execution_count": 3,
     "metadata": {},
     "output_type": "execute_result"
    }
   ],
   "source": [
    "df.head()"
   ]
  },
  {
   "cell_type": "code",
   "execution_count": 4,
   "id": "9854b1f3",
   "metadata": {},
   "outputs": [
    {
     "data": {
      "text/html": [
       "<div>\n",
       "<style scoped>\n",
       "    .dataframe tbody tr th:only-of-type {\n",
       "        vertical-align: middle;\n",
       "    }\n",
       "\n",
       "    .dataframe tbody tr th {\n",
       "        vertical-align: top;\n",
       "    }\n",
       "\n",
       "    .dataframe thead th {\n",
       "        text-align: right;\n",
       "    }\n",
       "</style>\n",
       "<table border=\"1\" class=\"dataframe\">\n",
       "  <thead>\n",
       "    <tr style=\"text-align: right;\">\n",
       "      <th></th>\n",
       "      <th>song_id</th>\n",
       "      <th>title</th>\n",
       "      <th>release</th>\n",
       "      <th>artist_name</th>\n",
       "      <th>year</th>\n",
       "    </tr>\n",
       "  </thead>\n",
       "  <tbody>\n",
       "    <tr>\n",
       "      <th>0</th>\n",
       "      <td>SOQMMHC12AB0180CB8</td>\n",
       "      <td>Silent Night</td>\n",
       "      <td>Monster Ballads X-Mas</td>\n",
       "      <td>Faster Pussy cat</td>\n",
       "      <td>2003</td>\n",
       "    </tr>\n",
       "    <tr>\n",
       "      <th>1</th>\n",
       "      <td>SOVFVAK12A8C1350D9</td>\n",
       "      <td>Tanssi vaan</td>\n",
       "      <td>Karkuteillä</td>\n",
       "      <td>Karkkiautomaatti</td>\n",
       "      <td>1995</td>\n",
       "    </tr>\n",
       "    <tr>\n",
       "      <th>2</th>\n",
       "      <td>SOGTUKN12AB017F4F1</td>\n",
       "      <td>No One Could Ever</td>\n",
       "      <td>Butter</td>\n",
       "      <td>Hudson Mohawke</td>\n",
       "      <td>2006</td>\n",
       "    </tr>\n",
       "    <tr>\n",
       "      <th>3</th>\n",
       "      <td>SOBNYVR12A8C13558C</td>\n",
       "      <td>Si Vos Querés</td>\n",
       "      <td>De Culo</td>\n",
       "      <td>Yerba Brava</td>\n",
       "      <td>2003</td>\n",
       "    </tr>\n",
       "    <tr>\n",
       "      <th>4</th>\n",
       "      <td>SOHSBXH12A8C13B0DF</td>\n",
       "      <td>Tangle Of Aspens</td>\n",
       "      <td>Rene Ablaze Presents Winter Sessions</td>\n",
       "      <td>Der Mystic</td>\n",
       "      <td>0</td>\n",
       "    </tr>\n",
       "  </tbody>\n",
       "</table>\n",
       "</div>"
      ],
      "text/plain": [
       "              song_id              title  \\\n",
       "0  SOQMMHC12AB0180CB8       Silent Night   \n",
       "1  SOVFVAK12A8C1350D9        Tanssi vaan   \n",
       "2  SOGTUKN12AB017F4F1  No One Could Ever   \n",
       "3  SOBNYVR12A8C13558C      Si Vos Querés   \n",
       "4  SOHSBXH12A8C13B0DF   Tangle Of Aspens   \n",
       "\n",
       "                                release       artist_name  year  \n",
       "0                 Monster Ballads X-Mas  Faster Pussy cat  2003  \n",
       "1                           Karkuteillä  Karkkiautomaatti  1995  \n",
       "2                                Butter    Hudson Mohawke  2006  \n",
       "3                               De Culo       Yerba Brava  2003  \n",
       "4  Rene Ablaze Presents Winter Sessions        Der Mystic     0  "
      ]
     },
     "execution_count": 4,
     "metadata": {},
     "output_type": "execute_result"
    }
   ],
   "source": [
    "df_songs.head()"
   ]
  },
  {
   "cell_type": "markdown",
   "id": "844d1279",
   "metadata": {},
   "source": [
    "## Ahora indagemos los datos del dataframe priincipal (df) para darnos una idea con lo que estaremos trabajando"
   ]
  },
  {
   "cell_type": "code",
   "execution_count": 5,
   "id": "19132ef6",
   "metadata": {},
   "outputs": [
    {
     "data": {
      "text/plain": [
       "76353"
      ]
     },
     "execution_count": 5,
     "metadata": {},
     "output_type": "execute_result"
    }
   ],
   "source": [
    "df.user_id.nunique()"
   ]
  },
  {
   "cell_type": "code",
   "execution_count": 6,
   "id": "86a5b8f7",
   "metadata": {},
   "outputs": [
    {
     "data": {
      "text/plain": [
       "26.194124657839247"
      ]
     },
     "execution_count": 6,
     "metadata": {},
     "output_type": "execute_result"
    }
   ],
   "source": [
    "respuestas_promedio = df.shape[0] / df.user_id.nunique()\n",
    "respuestas_promedio"
   ]
  },
  {
   "cell_type": "markdown",
   "id": "40c71ac5",
   "metadata": {},
   "source": [
    "#### Vemos que en el dataframe tenemos 76353 usuarios que han respondido, los cuales escuchan en promedio 26 canciones diferentes aproximadamente"
   ]
  },
  {
   "cell_type": "code",
   "execution_count": 7,
   "id": "a8aba588",
   "metadata": {},
   "outputs": [
    {
     "data": {
      "text/html": [
       "<div>\n",
       "<style scoped>\n",
       "    .dataframe tbody tr th:only-of-type {\n",
       "        vertical-align: middle;\n",
       "    }\n",
       "\n",
       "    .dataframe tbody tr th {\n",
       "        vertical-align: top;\n",
       "    }\n",
       "\n",
       "    .dataframe thead th {\n",
       "        text-align: right;\n",
       "    }\n",
       "</style>\n",
       "<table border=\"1\" class=\"dataframe\">\n",
       "  <thead>\n",
       "    <tr style=\"text-align: right;\">\n",
       "      <th></th>\n",
       "      <th>user_id</th>\n",
       "      <th>song_id</th>\n",
       "      <th>listen_count</th>\n",
       "    </tr>\n",
       "  </thead>\n",
       "  <tbody>\n",
       "    <tr>\n",
       "      <th>0</th>\n",
       "      <td>b80344d063b5ccb3212f76538f3d9e43d87dca9e</td>\n",
       "      <td>SOAKIMP12A8C130995</td>\n",
       "      <td>1</td>\n",
       "    </tr>\n",
       "    <tr>\n",
       "      <th>1151076</th>\n",
       "      <td>2717cf7fe16bdb5a7e5c978349395b825dc4c223</td>\n",
       "      <td>SOJJYOM12A8C142CD9</td>\n",
       "      <td>1</td>\n",
       "    </tr>\n",
       "    <tr>\n",
       "      <th>1151075</th>\n",
       "      <td>2717cf7fe16bdb5a7e5c978349395b825dc4c223</td>\n",
       "      <td>SOJGZFQ12AF72A41B2</td>\n",
       "      <td>1</td>\n",
       "    </tr>\n",
       "    <tr>\n",
       "      <th>1151074</th>\n",
       "      <td>2717cf7fe16bdb5a7e5c978349395b825dc4c223</td>\n",
       "      <td>SOJGSFH12AB017EFC2</td>\n",
       "      <td>1</td>\n",
       "    </tr>\n",
       "    <tr>\n",
       "      <th>1151072</th>\n",
       "      <td>2717cf7fe16bdb5a7e5c978349395b825dc4c223</td>\n",
       "      <td>SOIPFGR12B0B8063CB</td>\n",
       "      <td>1</td>\n",
       "    </tr>\n",
       "  </tbody>\n",
       "</table>\n",
       "</div>"
      ],
      "text/plain": [
       "                                          user_id             song_id  \\\n",
       "0        b80344d063b5ccb3212f76538f3d9e43d87dca9e  SOAKIMP12A8C130995   \n",
       "1151076  2717cf7fe16bdb5a7e5c978349395b825dc4c223  SOJJYOM12A8C142CD9   \n",
       "1151075  2717cf7fe16bdb5a7e5c978349395b825dc4c223  SOJGZFQ12AF72A41B2   \n",
       "1151074  2717cf7fe16bdb5a7e5c978349395b825dc4c223  SOJGSFH12AB017EFC2   \n",
       "1151072  2717cf7fe16bdb5a7e5c978349395b825dc4c223  SOIPFGR12B0B8063CB   \n",
       "\n",
       "         listen_count  \n",
       "0                   1  \n",
       "1151076             1  \n",
       "1151075             1  \n",
       "1151074             1  \n",
       "1151072             1  "
      ]
     },
     "execution_count": 7,
     "metadata": {},
     "output_type": "execute_result"
    }
   ],
   "source": [
    "df.sort_values(by=\"listen_count\").head()"
   ]
  },
  {
   "cell_type": "code",
   "execution_count": 8,
   "id": "a1ff8b43",
   "metadata": {},
   "outputs": [
    {
     "data": {
      "text/html": [
       "<div>\n",
       "<style scoped>\n",
       "    .dataframe tbody tr th:only-of-type {\n",
       "        vertical-align: middle;\n",
       "    }\n",
       "\n",
       "    .dataframe tbody tr th {\n",
       "        vertical-align: top;\n",
       "    }\n",
       "\n",
       "    .dataframe thead th {\n",
       "        text-align: right;\n",
       "    }\n",
       "</style>\n",
       "<table border=\"1\" class=\"dataframe\">\n",
       "  <thead>\n",
       "    <tr style=\"text-align: right;\">\n",
       "      <th></th>\n",
       "      <th>user_id</th>\n",
       "      <th>song_id</th>\n",
       "      <th>listen_count</th>\n",
       "    </tr>\n",
       "  </thead>\n",
       "  <tbody>\n",
       "    <tr>\n",
       "      <th>1875121</th>\n",
       "      <td>c012ec364329bb08cbe3e62fe76db31f8c5d8ec3</td>\n",
       "      <td>SOBONKR12A58A7A7E0</td>\n",
       "      <td>683</td>\n",
       "    </tr>\n",
       "    <tr>\n",
       "      <th>31179</th>\n",
       "      <td>bb85bb79612e5373ac714fcd4469cabeb5ed94e1</td>\n",
       "      <td>SOZQSVB12A8C13C271</td>\n",
       "      <td>796</td>\n",
       "    </tr>\n",
       "    <tr>\n",
       "      <th>1586780</th>\n",
       "      <td>5ea608df0357ec4fda191cb9316fe8e6e65e3777</td>\n",
       "      <td>SOKOSPK12A8C13C088</td>\n",
       "      <td>879</td>\n",
       "    </tr>\n",
       "    <tr>\n",
       "      <th>1048310</th>\n",
       "      <td>50996bbabb6f7857bf0c8019435b5246a0e45cfd</td>\n",
       "      <td>SOUAGPQ12A8AE47B3A</td>\n",
       "      <td>920</td>\n",
       "    </tr>\n",
       "    <tr>\n",
       "      <th>1228366</th>\n",
       "      <td>d13609d62db6df876d3cc388225478618bb7b912</td>\n",
       "      <td>SOFCGSE12AF72A674F</td>\n",
       "      <td>2213</td>\n",
       "    </tr>\n",
       "  </tbody>\n",
       "</table>\n",
       "</div>"
      ],
      "text/plain": [
       "                                          user_id             song_id  \\\n",
       "1875121  c012ec364329bb08cbe3e62fe76db31f8c5d8ec3  SOBONKR12A58A7A7E0   \n",
       "31179    bb85bb79612e5373ac714fcd4469cabeb5ed94e1  SOZQSVB12A8C13C271   \n",
       "1586780  5ea608df0357ec4fda191cb9316fe8e6e65e3777  SOKOSPK12A8C13C088   \n",
       "1048310  50996bbabb6f7857bf0c8019435b5246a0e45cfd  SOUAGPQ12A8AE47B3A   \n",
       "1228366  d13609d62db6df876d3cc388225478618bb7b912  SOFCGSE12AF72A674F   \n",
       "\n",
       "         listen_count  \n",
       "1875121           683  \n",
       "31179             796  \n",
       "1586780           879  \n",
       "1048310           920  \n",
       "1228366          2213  "
      ]
     },
     "execution_count": 8,
     "metadata": {},
     "output_type": "execute_result"
    }
   ],
   "source": [
    "df.sort_values(by=\"listen_count\").tail()"
   ]
  },
  {
   "cell_type": "markdown",
   "id": "cec2d0ec",
   "metadata": {},
   "source": [
    "#### Vemos que hay usuarios que han oido una cancion desde 1 vez hasta usuarios que han escuchado una cancion mas de 2000 veces"
   ]
  },
  {
   "cell_type": "code",
   "execution_count": 9,
   "id": "979f32cb",
   "metadata": {},
   "outputs": [
    {
     "data": {
      "text/plain": [
       "user_id         0\n",
       "song_id         0\n",
       "listen_count    0\n",
       "dtype: int64"
      ]
     },
     "execution_count": 9,
     "metadata": {},
     "output_type": "execute_result"
    }
   ],
   "source": [
    "df.isnull().sum()"
   ]
  },
  {
   "cell_type": "markdown",
   "id": "a43705f3",
   "metadata": {},
   "source": [
    "#### Parecen muy limpios los datos"
   ]
  },
  {
   "cell_type": "code",
   "execution_count": 10,
   "id": "4d85d886",
   "metadata": {},
   "outputs": [
    {
     "data": {
      "text/plain": [
       "listen_count\n",
       "1    1138433\n",
       "2     313043\n",
       "3     142933\n",
       "5      93136\n",
       "4      82569\n",
       "Name: count, dtype: int64"
      ]
     },
     "execution_count": 10,
     "metadata": {},
     "output_type": "execute_result"
    }
   ],
   "source": [
    "c = df['listen_count'].value_counts()\n",
    "c.head()"
   ]
  },
  {
   "cell_type": "code",
   "execution_count": 11,
   "id": "6fb5c7ac",
   "metadata": {},
   "outputs": [
    {
     "data": {
      "text/plain": [
       "295"
      ]
     },
     "execution_count": 11,
     "metadata": {},
     "output_type": "execute_result"
    }
   ],
   "source": [
    "df['listen_count'].nunique()"
   ]
  },
  {
   "cell_type": "code",
   "execution_count": 12,
   "id": "54dd6860",
   "metadata": {},
   "outputs": [],
   "source": [
    "import matplotlib.pyplot as plt\n",
    "import seaborn as sns"
   ]
  },
  {
   "cell_type": "code",
   "execution_count": 13,
   "id": "c0a43b5d",
   "metadata": {},
   "outputs": [
    {
     "data": {
      "image/png": "[encoded data removed]",
      "text/plain": [
       "<Figure size 1500x600 with 1 Axes>"
      ]
     },
     "metadata": {},
     "output_type": "display_data"
    }
   ],
   "source": [
    "plt.figure(figsize=(15, 6))\n",
    "sns.barplot(x=c,y=c.index, color='blue')\n",
    "plt.show()"
   ]
  },
  {
   "cell_type": "markdown",
   "id": "f686c4d1",
   "metadata": {},
   "source": [
    "#### Aqui tenemos un problema, pues tenemos una gran cantidad de diferentes escuchadas, casi 300, por lo que para hacerlo mas general y hacer recomendaciones mas generales, haremos rangos de estas escuchadas por cancion."
   ]
  },
  {
   "cell_type": "code",
   "execution_count": 14,
   "id": "bf08c50c",
   "metadata": {},
   "outputs": [
    {
     "data": {
      "text/plain": [
       "2000000"
      ]
     },
     "execution_count": 14,
     "metadata": {},
     "output_type": "execute_result"
    }
   ],
   "source": [
    "c.sum()"
   ]
  },
  {
   "cell_type": "code",
   "execution_count": 15,
   "id": "5f5fc8c9",
   "metadata": {},
   "outputs": [
    {
     "data": {
      "text/html": [
       "<div>\n",
       "<style scoped>\n",
       "    .dataframe tbody tr th:only-of-type {\n",
       "        vertical-align: middle;\n",
       "    }\n",
       "\n",
       "    .dataframe tbody tr th {\n",
       "        vertical-align: top;\n",
       "    }\n",
       "\n",
       "    .dataframe thead th {\n",
       "        text-align: right;\n",
       "    }\n",
       "</style>\n",
       "<table border=\"1\" class=\"dataframe\">\n",
       "  <thead>\n",
       "    <tr style=\"text-align: right;\">\n",
       "      <th></th>\n",
       "      <th>user_id</th>\n",
       "      <th>song_id</th>\n",
       "      <th>listen_count</th>\n",
       "      <th>calificacion</th>\n",
       "    </tr>\n",
       "  </thead>\n",
       "  <tbody>\n",
       "    <tr>\n",
       "      <th>0</th>\n",
       "      <td>b80344d063b5ccb3212f76538f3d9e43d87dca9e</td>\n",
       "      <td>SOAKIMP12A8C130995</td>\n",
       "      <td>1</td>\n",
       "      <td>2</td>\n",
       "    </tr>\n",
       "    <tr>\n",
       "      <th>1</th>\n",
       "      <td>b80344d063b5ccb3212f76538f3d9e43d87dca9e</td>\n",
       "      <td>SOBBMDR12A8C13253B</td>\n",
       "      <td>2</td>\n",
       "      <td>3</td>\n",
       "    </tr>\n",
       "    <tr>\n",
       "      <th>2</th>\n",
       "      <td>b80344d063b5ccb3212f76538f3d9e43d87dca9e</td>\n",
       "      <td>SOBXHDL12A81C204C0</td>\n",
       "      <td>1</td>\n",
       "      <td>2</td>\n",
       "    </tr>\n",
       "    <tr>\n",
       "      <th>3</th>\n",
       "      <td>b80344d063b5ccb3212f76538f3d9e43d87dca9e</td>\n",
       "      <td>SOBYHAJ12A6701BF1D</td>\n",
       "      <td>1</td>\n",
       "      <td>2</td>\n",
       "    </tr>\n",
       "    <tr>\n",
       "      <th>4</th>\n",
       "      <td>b80344d063b5ccb3212f76538f3d9e43d87dca9e</td>\n",
       "      <td>SODACBL12A8C13C273</td>\n",
       "      <td>1</td>\n",
       "      <td>2</td>\n",
       "    </tr>\n",
       "  </tbody>\n",
       "</table>\n",
       "</div>"
      ],
      "text/plain": [
       "                                    user_id             song_id  listen_count  \\\n",
       "0  b80344d063b5ccb3212f76538f3d9e43d87dca9e  SOAKIMP12A8C130995             1   \n",
       "1  b80344d063b5ccb3212f76538f3d9e43d87dca9e  SOBBMDR12A8C13253B             2   \n",
       "2  b80344d063b5ccb3212f76538f3d9e43d87dca9e  SOBXHDL12A81C204C0             1   \n",
       "3  b80344d063b5ccb3212f76538f3d9e43d87dca9e  SOBYHAJ12A6701BF1D             1   \n",
       "4  b80344d063b5ccb3212f76538f3d9e43d87dca9e  SODACBL12A8C13C273             1   \n",
       "\n",
       "  calificacion  \n",
       "0            2  \n",
       "1            3  \n",
       "2            2  \n",
       "3            2  \n",
       "4            2  "
      ]
     },
     "execution_count": 15,
     "metadata": {},
     "output_type": "execute_result"
    }
   ],
   "source": [
    "#bins = [0, 3, 10, 20, 30, 40, 50, 100, 200, 500, float('inf')]\n",
    "bins = [0, 1, 2, 3, 4, 5, 6, 7, 8, 9, 2214]\n",
    "\n",
    "labels = [1, 2, 3, 4, 5, 6, 7, 8, 9, 10]\n",
    "\n",
    "df['calificacion'] = pd.cut(df['listen_count'], bins=bins, labels=labels, right=False)\n",
    "\n",
    "df.head()"
   ]
  },
  {
   "cell_type": "code",
   "execution_count": 16,
   "id": "5a148df3",
   "metadata": {},
   "outputs": [
    {
     "data": {
      "text/plain": [
       "numpy.int64"
      ]
     },
     "execution_count": 16,
     "metadata": {},
     "output_type": "execute_result"
    }
   ],
   "source": [
    "#rectificamos que la nueva columan sea de numeros\n",
    "\n",
    "df['calificacion'] = df['calificacion'].astype(int)\n",
    "\n",
    "type(df['calificacion'][0])"
   ]
  },
  {
   "cell_type": "code",
   "execution_count": 17,
   "id": "41f19951",
   "metadata": {},
   "outputs": [
    {
     "data": {
      "text/plain": [
       "calificacion\n",
       "2     1138433\n",
       "3      313043\n",
       "4      142933\n",
       "10     130790\n",
       "6       93136\n",
       "Name: count, dtype: int64"
      ]
     },
     "execution_count": 17,
     "metadata": {},
     "output_type": "execute_result"
    }
   ],
   "source": [
    "d = df['calificacion'].value_counts()\n",
    "d.head()"
   ]
  },
  {
   "cell_type": "code",
   "execution_count": 18,
   "id": "2ecfaeaa",
   "metadata": {},
   "outputs": [
    {
     "data": {
      "text/plain": [
       "9"
      ]
     },
     "execution_count": 18,
     "metadata": {},
     "output_type": "execute_result"
    }
   ],
   "source": [
    "df['calificacion'].nunique()"
   ]
  },
  {
   "cell_type": "code",
   "execution_count": 19,
   "id": "5496416c",
   "metadata": {},
   "outputs": [
    {
     "data": {
      "image/png": "[encoded data removed]",
      "text/plain": [
       "<Figure size 1500x600 with 1 Axes>"
      ]
     },
     "metadata": {},
     "output_type": "display_data"
    }
   ],
   "source": [
    "plt.figure(figsize=(15, 6))\n",
    "sns.barplot(x=d,y=d.index, color='pink')\n",
    "plt.show()"
   ]
  },
  {
   "cell_type": "markdown",
   "id": "8e844232",
   "metadata": {},
   "source": [
    "#### Por ultimo eliminamos la columna 'listen_count' pues ya no nos importa"
   ]
  },
  {
   "cell_type": "code",
   "execution_count": 20,
   "id": "cb85b38e",
   "metadata": {},
   "outputs": [
    {
     "data": {
      "text/html": [
       "<div>\n",
       "<style scoped>\n",
       "    .dataframe tbody tr th:only-of-type {\n",
       "        vertical-align: middle;\n",
       "    }\n",
       "\n",
       "    .dataframe tbody tr th {\n",
       "        vertical-align: top;\n",
       "    }\n",
       "\n",
       "    .dataframe thead th {\n",
       "        text-align: right;\n",
       "    }\n",
       "</style>\n",
       "<table border=\"1\" class=\"dataframe\">\n",
       "  <thead>\n",
       "    <tr style=\"text-align: right;\">\n",
       "      <th></th>\n",
       "      <th>user_id</th>\n",
       "      <th>song_id</th>\n",
       "      <th>calificacion</th>\n",
       "    </tr>\n",
       "  </thead>\n",
       "  <tbody>\n",
       "    <tr>\n",
       "      <th>0</th>\n",
       "      <td>b80344d063b5ccb3212f76538f3d9e43d87dca9e</td>\n",
       "      <td>SOAKIMP12A8C130995</td>\n",
       "      <td>2</td>\n",
       "    </tr>\n",
       "    <tr>\n",
       "      <th>1</th>\n",
       "      <td>b80344d063b5ccb3212f76538f3d9e43d87dca9e</td>\n",
       "      <td>SOBBMDR12A8C13253B</td>\n",
       "      <td>3</td>\n",
       "    </tr>\n",
       "    <tr>\n",
       "      <th>2</th>\n",
       "      <td>b80344d063b5ccb3212f76538f3d9e43d87dca9e</td>\n",
       "      <td>SOBXHDL12A81C204C0</td>\n",
       "      <td>2</td>\n",
       "    </tr>\n",
       "    <tr>\n",
       "      <th>3</th>\n",
       "      <td>b80344d063b5ccb3212f76538f3d9e43d87dca9e</td>\n",
       "      <td>SOBYHAJ12A6701BF1D</td>\n",
       "      <td>2</td>\n",
       "    </tr>\n",
       "    <tr>\n",
       "      <th>4</th>\n",
       "      <td>b80344d063b5ccb3212f76538f3d9e43d87dca9e</td>\n",
       "      <td>SODACBL12A8C13C273</td>\n",
       "      <td>2</td>\n",
       "    </tr>\n",
       "  </tbody>\n",
       "</table>\n",
       "</div>"
      ],
      "text/plain": [
       "                                    user_id             song_id  calificacion\n",
       "0  b80344d063b5ccb3212f76538f3d9e43d87dca9e  SOAKIMP12A8C130995             2\n",
       "1  b80344d063b5ccb3212f76538f3d9e43d87dca9e  SOBBMDR12A8C13253B             3\n",
       "2  b80344d063b5ccb3212f76538f3d9e43d87dca9e  SOBXHDL12A81C204C0             2\n",
       "3  b80344d063b5ccb3212f76538f3d9e43d87dca9e  SOBYHAJ12A6701BF1D             2\n",
       "4  b80344d063b5ccb3212f76538f3d9e43d87dca9e  SODACBL12A8C13C273             2"
      ]
     },
     "execution_count": 20,
     "metadata": {},
     "output_type": "execute_result"
    }
   ],
   "source": [
    "df = df.drop('listen_count', axis=1)\n",
    "df.head()"
   ]
  },
  {
   "cell_type": "markdown",
   "id": "5cf62bac",
   "metadata": {},
   "source": [
    "### Ahora toca dividir nuestros datos, para poder entrenar, testear y validar nuestro modelo"
   ]
  },
  {
   "cell_type": "code",
   "execution_count": 21,
   "id": "d79bdcc7",
   "metadata": {},
   "outputs": [],
   "source": [
    "from sklearn.model_selection import train_test_split"
   ]
  },
  {
   "cell_type": "code",
   "execution_count": 22,
   "id": "86a801b5",
   "metadata": {},
   "outputs": [
    {
     "name": "stdout",
     "output_type": "stream",
     "text": [
      "(1600000, 3) (400000, 3)\n"
     ]
    }
   ],
   "source": [
    "df_train, df_val = train_test_split(df, test_size = 0.2, random_state=1)\n",
    "print(df_train.shape, df_val.shape)"
   ]
  },
  {
   "cell_type": "code",
   "execution_count": 23,
   "id": "db23bc36",
   "metadata": {},
   "outputs": [
    {
     "data": {
      "text/html": [
       "<div>\n",
       "<style scoped>\n",
       "    .dataframe tbody tr th:only-of-type {\n",
       "        vertical-align: middle;\n",
       "    }\n",
       "\n",
       "    .dataframe tbody tr th {\n",
       "        vertical-align: top;\n",
       "    }\n",
       "\n",
       "    .dataframe thead th {\n",
       "        text-align: right;\n",
       "    }\n",
       "</style>\n",
       "<table border=\"1\" class=\"dataframe\">\n",
       "  <thead>\n",
       "    <tr style=\"text-align: right;\">\n",
       "      <th></th>\n",
       "      <th>user_id</th>\n",
       "      <th>song_id</th>\n",
       "      <th>calificacion</th>\n",
       "    </tr>\n",
       "  </thead>\n",
       "  <tbody>\n",
       "    <tr>\n",
       "      <th>1952144</th>\n",
       "      <td>2ce5b56b6c651accc947db94e5f5b37b51a8b4dc</td>\n",
       "      <td>SOXHIDK12A58A7CFB3</td>\n",
       "      <td>2</td>\n",
       "    </tr>\n",
       "    <tr>\n",
       "      <th>767002</th>\n",
       "      <td>a540373b4f88f7a34203ce1c8bbfa0bb56679aaf</td>\n",
       "      <td>SOITJIQ12A8C13A291</td>\n",
       "      <td>2</td>\n",
       "    </tr>\n",
       "    <tr>\n",
       "      <th>797412</th>\n",
       "      <td>c6c9c2f0cb0174cc67f4bd803431e709438ba360</td>\n",
       "      <td>SOUSOKG12A58A7AC15</td>\n",
       "      <td>5</td>\n",
       "    </tr>\n",
       "    <tr>\n",
       "      <th>1235336</th>\n",
       "      <td>2c460774b978af80929ace6109bbf405c9c872bc</td>\n",
       "      <td>SOWUEQA12A8151BA81</td>\n",
       "      <td>2</td>\n",
       "    </tr>\n",
       "    <tr>\n",
       "      <th>1955142</th>\n",
       "      <td>2869bf0c721e75cc0871adb749916085e3ef23f0</td>\n",
       "      <td>SOSHJIH12AF72A1D72</td>\n",
       "      <td>2</td>\n",
       "    </tr>\n",
       "  </tbody>\n",
       "</table>\n",
       "</div>"
      ],
      "text/plain": [
       "                                          user_id             song_id  \\\n",
       "1952144  2ce5b56b6c651accc947db94e5f5b37b51a8b4dc  SOXHIDK12A58A7CFB3   \n",
       "767002   a540373b4f88f7a34203ce1c8bbfa0bb56679aaf  SOITJIQ12A8C13A291   \n",
       "797412   c6c9c2f0cb0174cc67f4bd803431e709438ba360  SOUSOKG12A58A7AC15   \n",
       "1235336  2c460774b978af80929ace6109bbf405c9c872bc  SOWUEQA12A8151BA81   \n",
       "1955142  2869bf0c721e75cc0871adb749916085e3ef23f0  SOSHJIH12AF72A1D72   \n",
       "\n",
       "         calificacion  \n",
       "1952144             2  \n",
       "767002              2  \n",
       "797412              5  \n",
       "1235336             2  \n",
       "1955142             2  "
      ]
     },
     "execution_count": 23,
     "metadata": {},
     "output_type": "execute_result"
    }
   ],
   "source": [
    "df_train.head()"
   ]
  },
  {
   "cell_type": "code",
   "execution_count": 24,
   "id": "0dd526a9",
   "metadata": {},
   "outputs": [
    {
     "data": {
      "text/html": [
       "<div>\n",
       "<style scoped>\n",
       "    .dataframe tbody tr th:only-of-type {\n",
       "        vertical-align: middle;\n",
       "    }\n",
       "\n",
       "    .dataframe tbody tr th {\n",
       "        vertical-align: top;\n",
       "    }\n",
       "\n",
       "    .dataframe thead th {\n",
       "        text-align: right;\n",
       "    }\n",
       "</style>\n",
       "<table border=\"1\" class=\"dataframe\">\n",
       "  <thead>\n",
       "    <tr style=\"text-align: right;\">\n",
       "      <th></th>\n",
       "      <th>user_id</th>\n",
       "      <th>song_id</th>\n",
       "      <th>calificacion</th>\n",
       "    </tr>\n",
       "  </thead>\n",
       "  <tbody>\n",
       "    <tr>\n",
       "      <th>1952144</th>\n",
       "      <td>2ce5b56b6c651accc947db94e5f5b37b51a8b4dc</td>\n",
       "      <td>SOXHIDK12A58A7CFB3</td>\n",
       "      <td>2</td>\n",
       "    </tr>\n",
       "    <tr>\n",
       "      <th>767002</th>\n",
       "      <td>a540373b4f88f7a34203ce1c8bbfa0bb56679aaf</td>\n",
       "      <td>SOITJIQ12A8C13A291</td>\n",
       "      <td>2</td>\n",
       "    </tr>\n",
       "    <tr>\n",
       "      <th>797412</th>\n",
       "      <td>c6c9c2f0cb0174cc67f4bd803431e709438ba360</td>\n",
       "      <td>SOUSOKG12A58A7AC15</td>\n",
       "      <td>5</td>\n",
       "    </tr>\n",
       "    <tr>\n",
       "      <th>1235336</th>\n",
       "      <td>2c460774b978af80929ace6109bbf405c9c872bc</td>\n",
       "      <td>SOWUEQA12A8151BA81</td>\n",
       "      <td>2</td>\n",
       "    </tr>\n",
       "    <tr>\n",
       "      <th>1955142</th>\n",
       "      <td>2869bf0c721e75cc0871adb749916085e3ef23f0</td>\n",
       "      <td>SOSHJIH12AF72A1D72</td>\n",
       "      <td>2</td>\n",
       "    </tr>\n",
       "    <tr>\n",
       "      <th>...</th>\n",
       "      <td>...</td>\n",
       "      <td>...</td>\n",
       "      <td>...</td>\n",
       "    </tr>\n",
       "    <tr>\n",
       "      <th>491263</th>\n",
       "      <td>e6f1dd0b1cb86f83aa056289ef6b83c059064773</td>\n",
       "      <td>SOLQSWM12A6D4FA60D</td>\n",
       "      <td>2</td>\n",
       "    </tr>\n",
       "    <tr>\n",
       "      <th>1840200</th>\n",
       "      <td>fe75beb1e8dcba3145048acc92d3f5a94ac0ae5b</td>\n",
       "      <td>SOSJZID12A8C13E802</td>\n",
       "      <td>3</td>\n",
       "    </tr>\n",
       "    <tr>\n",
       "      <th>470924</th>\n",
       "      <td>c2ec3f7c38ae13c8819c978d0b33b3c406f11c24</td>\n",
       "      <td>SORKVID12A6D4FC6D2</td>\n",
       "      <td>2</td>\n",
       "    </tr>\n",
       "    <tr>\n",
       "      <th>491755</th>\n",
       "      <td>db7c0b803e0a137e8f32ff52c44571960fdc730c</td>\n",
       "      <td>SOOXLKF12A6D4F594A</td>\n",
       "      <td>2</td>\n",
       "    </tr>\n",
       "    <tr>\n",
       "      <th>128037</th>\n",
       "      <td>0e568bfc688e99ef97cb0b0371e5dc7f619545fd</td>\n",
       "      <td>SOATJMN12AB0184D1E</td>\n",
       "      <td>2</td>\n",
       "    </tr>\n",
       "  </tbody>\n",
       "</table>\n",
       "<p>1600000 rows × 3 columns</p>\n",
       "</div>"
      ],
      "text/plain": [
       "                                          user_id             song_id  \\\n",
       "1952144  2ce5b56b6c651accc947db94e5f5b37b51a8b4dc  SOXHIDK12A58A7CFB3   \n",
       "767002   a540373b4f88f7a34203ce1c8bbfa0bb56679aaf  SOITJIQ12A8C13A291   \n",
       "797412   c6c9c2f0cb0174cc67f4bd803431e709438ba360  SOUSOKG12A58A7AC15   \n",
       "1235336  2c460774b978af80929ace6109bbf405c9c872bc  SOWUEQA12A8151BA81   \n",
       "1955142  2869bf0c721e75cc0871adb749916085e3ef23f0  SOSHJIH12AF72A1D72   \n",
       "...                                           ...                 ...   \n",
       "491263   e6f1dd0b1cb86f83aa056289ef6b83c059064773  SOLQSWM12A6D4FA60D   \n",
       "1840200  fe75beb1e8dcba3145048acc92d3f5a94ac0ae5b  SOSJZID12A8C13E802   \n",
       "470924   c2ec3f7c38ae13c8819c978d0b33b3c406f11c24  SORKVID12A6D4FC6D2   \n",
       "491755   db7c0b803e0a137e8f32ff52c44571960fdc730c  SOOXLKF12A6D4F594A   \n",
       "128037   0e568bfc688e99ef97cb0b0371e5dc7f619545fd  SOATJMN12AB0184D1E   \n",
       "\n",
       "         calificacion  \n",
       "1952144             2  \n",
       "767002              2  \n",
       "797412              5  \n",
       "1235336             2  \n",
       "1955142             2  \n",
       "...               ...  \n",
       "491263              2  \n",
       "1840200             3  \n",
       "470924              2  \n",
       "491755              2  \n",
       "128037              2  \n",
       "\n",
       "[1600000 rows x 3 columns]"
      ]
     },
     "execution_count": 24,
     "metadata": {},
     "output_type": "execute_result"
    }
   ],
   "source": [
    "df_train[[\"user_id\",\"song_id\",\"calificacion\"]]"
   ]
  },
  {
   "cell_type": "markdown",
   "id": "bb3d3f99",
   "metadata": {},
   "source": [
    "#### Ya con esta matriz, es hora de descomponerla mediante SVD en otras 3, las cuales usaremos para nuestro sistema de recomendacion, una para los usuarios, una diagonal y otra para las canciones"
   ]
  },
  {
   "cell_type": "code",
   "execution_count": 101,
   "id": "8c876884",
   "metadata": {},
   "outputs": [],
   "source": [
    "from surprise import SVD, Dataset, Reader, accuracy\n",
    "from surprise.model_selection import cross_validate\n",
    "\n",
    "reader = Reader(line_format='user item rating', rating_scale=(1, 10))"
   ]
  },
  {
   "cell_type": "code",
   "execution_count": 102,
   "id": "e8885622",
   "metadata": {},
   "outputs": [],
   "source": [
    "dataTrain = Dataset.load_from_df(df_train[[\"user_id\",\"song_id\",\"calificacion\"]], reader=reader)\n",
    "dataTrain = dataTrain.build_full_trainset()\n",
    "\n",
    "dataTest = Dataset.load_from_df(df_val[[\"user_id\",\"song_id\",\"calificacion\"]], reader=reader)\n",
    "dataTest = dataTest.construct_testset(dataTest.raw_ratings)"
   ]
  },
  {
   "cell_type": "code",
   "execution_count": 103,
   "id": "c8368d15",
   "metadata": {},
   "outputs": [
    {
     "name": "stdout",
     "output_type": "stream",
     "text": [
      "RMSE: 2.0844\n"
     ]
    },
    {
     "data": {
      "text/plain": [
       "2.0844480920861956"
      ]
     },
     "execution_count": 103,
     "metadata": {},
     "output_type": "execute_result"
    }
   ],
   "source": [
    "algo = SVD()\n",
    "\n",
    "algo.fit(dataTrain)\n",
    "\n",
    "predictions = algo.test(dataTest)\n",
    "\n",
    "accuracy.rmse(predictions)"
   ]
  },
  {
   "cell_type": "markdown",
   "id": "d86c85ad",
   "metadata": {},
   "source": [
    "#### otra manera de ver como se comporta el algoritmo\n",
    "cross_validate(algo, dataTrain, measures=['RMSE'], cv=5, verbose=True)"
   ]
  },
  {
   "cell_type": "code",
   "execution_count": 104,
   "id": "28fb777e",
   "metadata": {},
   "outputs": [
    {
     "data": {
      "text/html": [
       "<div>\n",
       "<style scoped>\n",
       "    .dataframe tbody tr th:only-of-type {\n",
       "        vertical-align: middle;\n",
       "    }\n",
       "\n",
       "    .dataframe tbody tr th {\n",
       "        vertical-align: top;\n",
       "    }\n",
       "\n",
       "    .dataframe thead th {\n",
       "        text-align: right;\n",
       "    }\n",
       "</style>\n",
       "<table border=\"1\" class=\"dataframe\">\n",
       "  <thead>\n",
       "    <tr style=\"text-align: right;\">\n",
       "      <th></th>\n",
       "      <th>user_id</th>\n",
       "      <th>song_id</th>\n",
       "      <th>calificacion</th>\n",
       "    </tr>\n",
       "  </thead>\n",
       "  <tbody>\n",
       "    <tr>\n",
       "      <th>1806398</th>\n",
       "      <td>f74715141f556a690b554e4bda4ec441f976c97d</td>\n",
       "      <td>SOJOIKI12AB0187525</td>\n",
       "      <td>2</td>\n",
       "    </tr>\n",
       "    <tr>\n",
       "      <th>422849</th>\n",
       "      <td>36f4f0163fe74c1f88c49b5c79ca00f9fa304d13</td>\n",
       "      <td>SOVBQOM12A8C137B16</td>\n",
       "      <td>2</td>\n",
       "    </tr>\n",
       "    <tr>\n",
       "      <th>1772714</th>\n",
       "      <td>a187486100bafebe5264a216d6dfc1646dbd2f03</td>\n",
       "      <td>SOYFNQM12A8C14264B</td>\n",
       "      <td>6</td>\n",
       "    </tr>\n",
       "    <tr>\n",
       "      <th>828325</th>\n",
       "      <td>775fb230d87357dbab455808c4ff9831fb65ad46</td>\n",
       "      <td>SOABNPW12A6D4FC9B5</td>\n",
       "      <td>2</td>\n",
       "    </tr>\n",
       "    <tr>\n",
       "      <th>659831</th>\n",
       "      <td>76bc893a4163b46d5474d501e1d11456546b50d2</td>\n",
       "      <td>SONUHDN12AB01800D7</td>\n",
       "      <td>2</td>\n",
       "    </tr>\n",
       "  </tbody>\n",
       "</table>\n",
       "</div>"
      ],
      "text/plain": [
       "                                          user_id             song_id  \\\n",
       "1806398  f74715141f556a690b554e4bda4ec441f976c97d  SOJOIKI12AB0187525   \n",
       "422849   36f4f0163fe74c1f88c49b5c79ca00f9fa304d13  SOVBQOM12A8C137B16   \n",
       "1772714  a187486100bafebe5264a216d6dfc1646dbd2f03  SOYFNQM12A8C14264B   \n",
       "828325   775fb230d87357dbab455808c4ff9831fb65ad46  SOABNPW12A6D4FC9B5   \n",
       "659831   76bc893a4163b46d5474d501e1d11456546b50d2  SONUHDN12AB01800D7   \n",
       "\n",
       "         calificacion  \n",
       "1806398             2  \n",
       "422849              2  \n",
       "1772714             6  \n",
       "828325              2  \n",
       "659831              2  "
      ]
     },
     "execution_count": 104,
     "metadata": {},
     "output_type": "execute_result"
    }
   ],
   "source": [
    "df_val.head()"
   ]
  },
  {
   "cell_type": "markdown",
   "id": "90036371",
   "metadata": {},
   "source": [
    "#### Probemos una prediccion"
   ]
  },
  {
   "cell_type": "code",
   "execution_count": 105,
   "id": "501e1487",
   "metadata": {},
   "outputs": [],
   "source": [
    "user_id = \"76bc893a4163b46d5474d501e1d11456546b50d2\"\n",
    "song_id = \"SONUHDN12AB01800D7\""
   ]
  },
  {
   "cell_type": "code",
   "execution_count": 106,
   "id": "92d4be3e",
   "metadata": {},
   "outputs": [
    {
     "name": "stdout",
     "output_type": "stream",
     "text": [
      "user: 76bc893a4163b46d5474d501e1d11456546b50d2 item: SONUHDN12AB01800D7 r_ui = 4.00   est = 3.69   {'was_impossible': False}\n",
      "La calificacion estimada del usuario es 3.6916251311605293\n"
     ]
    }
   ],
   "source": [
    "pred = algo.predict(user_id, song_id, r_ui=4, verbose=True)\n",
    "x = [pred.iid, pred.est]\n",
    "print(f\"La calificacion estimada del usuario es {pred[3]}\")"
   ]
  },
  {
   "cell_type": "markdown",
   "id": "5d432f50",
   "metadata": {},
   "source": [
    "### Ahora hagamos el sistema de recomendacion, en el que le damos un usuario y nos recomienda las 10 mejores canciones para el/ella/eso/helicopterodecombate/elle"
   ]
  },
  {
   "cell_type": "code",
   "execution_count": 107,
   "id": "ca4c63b8",
   "metadata": {},
   "outputs": [
    {
     "data": {
      "text/plain": [
       "10000"
      ]
     },
     "execution_count": 107,
     "metadata": {},
     "output_type": "execute_result"
    }
   ],
   "source": [
    "canciones = df[\"song_id\"].unique()\n",
    "canciones.size"
   ]
  },
  {
   "cell_type": "code",
   "execution_count": 111,
   "id": "a85c08e4",
   "metadata": {},
   "outputs": [],
   "source": [
    "def musicRecommendationSystem(user):\n",
    "    \n",
    "    #Obtener los ids de las canciones recomendadas\n",
    "    idsRecomendadas = []\n",
    "    for i in range(0,canciones.size):\n",
    "        pred = algo.predict(user, canciones[i], r_ui=4, verbose=False)\n",
    "        idsRecomendadas.append([pred.iid, pred.est])\n",
    "    myvar = pd.DataFrame(idsRecomendadas, columns=['song_id', 'calif']).sort_values(by=['calif'], ascending=False)\n",
    "    recomendadas = myvar.head(10)\n",
    "    \n",
    "    #De los ids, obtener el nombre, album y artista\n",
    "    song_ids = recomendadas['song_id']\n",
    "    filtered_songs = df_songs[df_songs['song_id'].isin(song_ids)][['title', 'release', 'artist_name']]\n",
    "    \n",
    "\n",
    "    return filtered_songs"
   ]
  },
  {
   "cell_type": "code",
   "execution_count": 112,
   "id": "33d06ff8",
   "metadata": {},
   "outputs": [
    {
     "data": {
      "text/html": [
       "<div>\n",
       "<style scoped>\n",
       "    .dataframe tbody tr th:only-of-type {\n",
       "        vertical-align: middle;\n",
       "    }\n",
       "\n",
       "    .dataframe tbody tr th {\n",
       "        vertical-align: top;\n",
       "    }\n",
       "\n",
       "    .dataframe thead th {\n",
       "        text-align: right;\n",
       "    }\n",
       "</style>\n",
       "<table border=\"1\" class=\"dataframe\">\n",
       "  <thead>\n",
       "    <tr style=\"text-align: right;\">\n",
       "      <th></th>\n",
       "      <th>title</th>\n",
       "      <th>release</th>\n",
       "      <th>artist_name</th>\n",
       "    </tr>\n",
       "  </thead>\n",
       "  <tbody>\n",
       "    <tr>\n",
       "      <th>160646</th>\n",
       "      <td>Show Me Love</td>\n",
       "      <td>The Annual 2009</td>\n",
       "      <td>Mobin Master Feat. Robin S.</td>\n",
       "    </tr>\n",
       "    <tr>\n",
       "      <th>222242</th>\n",
       "      <td>16 Candles</td>\n",
       "      <td>16 Candles</td>\n",
       "      <td>The Crests</td>\n",
       "    </tr>\n",
       "    <tr>\n",
       "      <th>283457</th>\n",
       "      <td>Quiero Quererte Querer</td>\n",
       "      <td>Una Noche Con Arte</td>\n",
       "      <td>El Arrebato</td>\n",
       "    </tr>\n",
       "    <tr>\n",
       "      <th>335297</th>\n",
       "      <td>Right Here Waiting (Single Edit)</td>\n",
       "      <td>Playlist: Ballads</td>\n",
       "      <td>Richard Marx</td>\n",
       "    </tr>\n",
       "    <tr>\n",
       "      <th>528866</th>\n",
       "      <td>Say Yeah [Radio Edit]</td>\n",
       "      <td>Say Yeah</td>\n",
       "      <td>Wiz Khalifa</td>\n",
       "    </tr>\n",
       "    <tr>\n",
       "      <th>541316</th>\n",
       "      <td>Colors Of The Wind</td>\n",
       "      <td>The Magic Of Disney</td>\n",
       "      <td>Vanessa Williams</td>\n",
       "    </tr>\n",
       "    <tr>\n",
       "      <th>626029</th>\n",
       "      <td>Here I Stand</td>\n",
       "      <td>Just To Let You Know&amp;</td>\n",
       "      <td>Bitty McLean</td>\n",
       "    </tr>\n",
       "    <tr>\n",
       "      <th>629260</th>\n",
       "      <td>Satisfaction</td>\n",
       "      <td>Hypnotica</td>\n",
       "      <td>Benny Benassi Presents The Biz</td>\n",
       "    </tr>\n",
       "    <tr>\n",
       "      <th>798640</th>\n",
       "      <td>Glad All Over</td>\n",
       "      <td>B-Sides &amp; Rarities</td>\n",
       "      <td>Terrorvision</td>\n",
       "    </tr>\n",
       "    <tr>\n",
       "      <th>830707</th>\n",
       "      <td>Numb (Album Version)</td>\n",
       "      <td>The Sickness</td>\n",
       "      <td>Disturbed</td>\n",
       "    </tr>\n",
       "  </tbody>\n",
       "</table>\n",
       "</div>"
      ],
      "text/plain": [
       "                                   title                release  \\\n",
       "160646                      Show Me Love        The Annual 2009   \n",
       "222242                        16 Candles             16 Candles   \n",
       "283457            Quiero Quererte Querer     Una Noche Con Arte   \n",
       "335297  Right Here Waiting (Single Edit)      Playlist: Ballads   \n",
       "528866             Say Yeah [Radio Edit]               Say Yeah   \n",
       "541316                Colors Of The Wind    The Magic Of Disney   \n",
       "626029                      Here I Stand  Just To Let You Know&   \n",
       "629260                      Satisfaction              Hypnotica   \n",
       "798640                     Glad All Over     B-Sides & Rarities   \n",
       "830707              Numb (Album Version)           The Sickness   \n",
       "\n",
       "                           artist_name  \n",
       "160646     Mobin Master Feat. Robin S.  \n",
       "222242                      The Crests  \n",
       "283457                     El Arrebato  \n",
       "335297                    Richard Marx  \n",
       "528866                     Wiz Khalifa  \n",
       "541316                Vanessa Williams  \n",
       "626029                    Bitty McLean  \n",
       "629260  Benny Benassi Presents The Biz  \n",
       "798640                    Terrorvision  \n",
       "830707                       Disturbed  "
      ]
     },
     "execution_count": 112,
     "metadata": {},
     "output_type": "execute_result"
    }
   ],
   "source": [
    "userPrueba = 'c6c9c2f0cb0174cc67f4bd803431e709438ba360'\n",
    "\n",
    "musicRecommendationSystem(userPrueba)"
   ]
  },
  {
   "cell_type": "code",
   "execution_count": 113,
   "id": "67b2819a",
   "metadata": {},
   "outputs": [
    {
     "data": {
      "text/html": [
       "<div>\n",
       "<style scoped>\n",
       "    .dataframe tbody tr th:only-of-type {\n",
       "        vertical-align: middle;\n",
       "    }\n",
       "\n",
       "    .dataframe tbody tr th {\n",
       "        vertical-align: top;\n",
       "    }\n",
       "\n",
       "    .dataframe thead th {\n",
       "        text-align: right;\n",
       "    }\n",
       "</style>\n",
       "<table border=\"1\" class=\"dataframe\">\n",
       "  <thead>\n",
       "    <tr style=\"text-align: right;\">\n",
       "      <th></th>\n",
       "      <th>title</th>\n",
       "      <th>release</th>\n",
       "      <th>artist_name</th>\n",
       "    </tr>\n",
       "  </thead>\n",
       "  <tbody>\n",
       "    <tr>\n",
       "      <th>59444</th>\n",
       "      <td>Decades Of Despair</td>\n",
       "      <td>Aren´t You Dead Yet?</td>\n",
       "      <td>Carnal Forge</td>\n",
       "    </tr>\n",
       "    <tr>\n",
       "      <th>120934</th>\n",
       "      <td>Gestern_Morgen</td>\n",
       "      <td>Happy In Grey</td>\n",
       "      <td>Damero feat. Nevis Peak</td>\n",
       "    </tr>\n",
       "    <tr>\n",
       "      <th>123377</th>\n",
       "      <td>Clara meets Slope - Hard To Say</td>\n",
       "      <td>All I Can Provide</td>\n",
       "      <td>Clara Hill</td>\n",
       "    </tr>\n",
       "    <tr>\n",
       "      <th>161905</th>\n",
       "      <td>Tennessee (Pirate Radio Mix)</td>\n",
       "      <td>Extended Revolution</td>\n",
       "      <td>ARRESTED DEVELOPMENT</td>\n",
       "    </tr>\n",
       "    <tr>\n",
       "      <th>195333</th>\n",
       "      <td>In League With Satan</td>\n",
       "      <td>Works Of Carnage</td>\n",
       "      <td>Krisiun</td>\n",
       "    </tr>\n",
       "    <tr>\n",
       "      <th>396937</th>\n",
       "      <td>Canción Para Luchar</td>\n",
       "      <td>Bandidos Rurales</td>\n",
       "      <td>León Gieco</td>\n",
       "    </tr>\n",
       "    <tr>\n",
       "      <th>536341</th>\n",
       "      <td>Brother</td>\n",
       "      <td>Out Of My Hands</td>\n",
       "      <td>Keisha White</td>\n",
       "    </tr>\n",
       "    <tr>\n",
       "      <th>892984</th>\n",
       "      <td>Cold Blooded (Acid Cleanse)</td>\n",
       "      <td>Machine Punk Music</td>\n",
       "      <td>The fFormula</td>\n",
       "    </tr>\n",
       "    <tr>\n",
       "      <th>894992</th>\n",
       "      <td>221</td>\n",
       "      <td>Spun</td>\n",
       "      <td>keller williams</td>\n",
       "    </tr>\n",
       "    <tr>\n",
       "      <th>917954</th>\n",
       "      <td>Greece 2000</td>\n",
       "      <td>Greece 2000</td>\n",
       "      <td>Three Drives</td>\n",
       "    </tr>\n",
       "  </tbody>\n",
       "</table>\n",
       "</div>"
      ],
      "text/plain": [
       "                                  title               release  \\\n",
       "59444                Decades Of Despair  Aren´t You Dead Yet?   \n",
       "120934                   Gestern_Morgen         Happy In Grey   \n",
       "123377  Clara meets Slope - Hard To Say     All I Can Provide   \n",
       "161905     Tennessee (Pirate Radio Mix)   Extended Revolution   \n",
       "195333             In League With Satan      Works Of Carnage   \n",
       "396937              Canción Para Luchar      Bandidos Rurales   \n",
       "536341                          Brother       Out Of My Hands   \n",
       "892984      Cold Blooded (Acid Cleanse)    Machine Punk Music   \n",
       "894992                              221                  Spun   \n",
       "917954                      Greece 2000           Greece 2000   \n",
       "\n",
       "                    artist_name  \n",
       "59444              Carnal Forge  \n",
       "120934  Damero feat. Nevis Peak  \n",
       "123377               Clara Hill  \n",
       "161905     ARRESTED DEVELOPMENT  \n",
       "195333                  Krisiun  \n",
       "396937               León Gieco  \n",
       "536341             Keisha White  \n",
       "892984             The fFormula  \n",
       "894992          keller williams  \n",
       "917954             Three Drives  "
      ]
     },
     "execution_count": 113,
     "metadata": {},
     "output_type": "execute_result"
    }
   ],
   "source": [
    "userPrueba1 = '36f4f0163fe74c1f88c49b5c79ca00f9fa304d13'\n",
    "\n",
    "musicRecommendationSystem(userPrueba1)"
   ]
  },
  {
   "cell_type": "code",
   "execution_count": null,
   "id": "eff82e3b",
   "metadata": {},
   "outputs": [],
   "source": []
  }
 ],
 "metadata": {
  "kernelspec": {
   "display_name": "Python 3 (ipykernel)",
   "language": "python",
   "name": "python3"
  },
  "language_info": {
   "codemirror_mode": {
    "name": "ipython",
    "version": 3
   },
   "file_extension": ".py",
   "mimetype": "text/x-python",
   "name": "python",
   "nbconvert_exporter": "python",
   "pygments_lexer": "ipython3",
   "version": "3.11.5"
  }
 },
 "nbformat": 4,
 "nbformat_minor": 5
}
