{
 "cells": [
  {
   "cell_type": "markdown",
   "id": "a171e69d",
   "metadata": {},
   "source": [
    "# <font color='#AF5500'>El primer paso del proyecto es importar los datasets que nos ayudaran a la elaboracion del proyecto</font>"
   ]
  },
  {
   "cell_type": "code",
   "execution_count": 120,
   "id": "5c402442",
   "metadata": {},
   "outputs": [],
   "source": [
    "import pandas as pd"
   ]
  },
  {
   "cell_type": "code",
   "execution_count": 121,
   "id": "8aef2c4c",
   "metadata": {},
   "outputs": [],
   "source": [
    "df = pd.read_csv(\"./datasets/triplets_file.csv\")\n",
    "df_songs = pd.read_csv(\"./datasets/song_data.csv\")"
   ]
  },
  {
   "cell_type": "code",
   "execution_count": 122,
   "id": "c27e78bb",
   "metadata": {},
   "outputs": [
    {
     "data": {
      "text/html": [
       "<div>\n",
       "<style scoped>\n",
       "    .dataframe tbody tr th:only-of-type {\n",
       "        vertical-align: middle;\n",
       "    }\n",
       "\n",
       "    .dataframe tbody tr th {\n",
       "        vertical-align: top;\n",
       "    }\n",
       "\n",
       "    .dataframe thead th {\n",
       "        text-align: right;\n",
       "    }\n",
       "</style>\n",
       "<table border=\"1\" class=\"dataframe\">\n",
       "  <thead>\n",
       "    <tr style=\"text-align: right;\">\n",
       "      <th></th>\n",
       "      <th>user_id</th>\n",
       "      <th>song_id</th>\n",
       "      <th>listen_count</th>\n",
       "    </tr>\n",
       "  </thead>\n",
       "  <tbody>\n",
       "    <tr>\n",
       "      <th>0</th>\n",
       "      <td>b80344d063b5ccb3212f76538f3d9e43d87dca9e</td>\n",
       "      <td>SOAKIMP12A8C130995</td>\n",
       "      <td>1</td>\n",
       "    </tr>\n",
       "    <tr>\n",
       "      <th>1</th>\n",
       "      <td>b80344d063b5ccb3212f76538f3d9e43d87dca9e</td>\n",
       "      <td>SOBBMDR12A8C13253B</td>\n",
       "      <td>2</td>\n",
       "    </tr>\n",
       "    <tr>\n",
       "      <th>2</th>\n",
       "      <td>b80344d063b5ccb3212f76538f3d9e43d87dca9e</td>\n",
       "      <td>SOBXHDL12A81C204C0</td>\n",
       "      <td>1</td>\n",
       "    </tr>\n",
       "    <tr>\n",
       "      <th>3</th>\n",
       "      <td>b80344d063b5ccb3212f76538f3d9e43d87dca9e</td>\n",
       "      <td>SOBYHAJ12A6701BF1D</td>\n",
       "      <td>1</td>\n",
       "    </tr>\n",
       "    <tr>\n",
       "      <th>4</th>\n",
       "      <td>b80344d063b5ccb3212f76538f3d9e43d87dca9e</td>\n",
       "      <td>SODACBL12A8C13C273</td>\n",
       "      <td>1</td>\n",
       "    </tr>\n",
       "  </tbody>\n",
       "</table>\n",
       "</div>"
      ],
      "text/plain": [
       "                                    user_id             song_id  listen_count\n",
       "0  b80344d063b5ccb3212f76538f3d9e43d87dca9e  SOAKIMP12A8C130995             1\n",
       "1  b80344d063b5ccb3212f76538f3d9e43d87dca9e  SOBBMDR12A8C13253B             2\n",
       "2  b80344d063b5ccb3212f76538f3d9e43d87dca9e  SOBXHDL12A81C204C0             1\n",
       "3  b80344d063b5ccb3212f76538f3d9e43d87dca9e  SOBYHAJ12A6701BF1D             1\n",
       "4  b80344d063b5ccb3212f76538f3d9e43d87dca9e  SODACBL12A8C13C273             1"
      ]
     },
     "execution_count": 122,
     "metadata": {},
     "output_type": "execute_result"
    }
   ],
   "source": [
    "df.head()"
   ]
  },
  {
   "cell_type": "code",
   "execution_count": 123,
   "id": "9854b1f3",
   "metadata": {},
   "outputs": [
    {
     "data": {
      "text/html": [
       "<div>\n",
       "<style scoped>\n",
       "    .dataframe tbody tr th:only-of-type {\n",
       "        vertical-align: middle;\n",
       "    }\n",
       "\n",
       "    .dataframe tbody tr th {\n",
       "        vertical-align: top;\n",
       "    }\n",
       "\n",
       "    .dataframe thead th {\n",
       "        text-align: right;\n",
       "    }\n",
       "</style>\n",
       "<table border=\"1\" class=\"dataframe\">\n",
       "  <thead>\n",
       "    <tr style=\"text-align: right;\">\n",
       "      <th></th>\n",
       "      <th>song_id</th>\n",
       "      <th>title</th>\n",
       "      <th>release</th>\n",
       "      <th>artist_name</th>\n",
       "      <th>year</th>\n",
       "    </tr>\n",
       "  </thead>\n",
       "  <tbody>\n",
       "    <tr>\n",
       "      <th>0</th>\n",
       "      <td>SOQMMHC12AB0180CB8</td>\n",
       "      <td>Silent Night</td>\n",
       "      <td>Monster Ballads X-Mas</td>\n",
       "      <td>Faster Pussy cat</td>\n",
       "      <td>2003</td>\n",
       "    </tr>\n",
       "    <tr>\n",
       "      <th>1</th>\n",
       "      <td>SOVFVAK12A8C1350D9</td>\n",
       "      <td>Tanssi vaan</td>\n",
       "      <td>Karkuteillä</td>\n",
       "      <td>Karkkiautomaatti</td>\n",
       "      <td>1995</td>\n",
       "    </tr>\n",
       "    <tr>\n",
       "      <th>2</th>\n",
       "      <td>SOGTUKN12AB017F4F1</td>\n",
       "      <td>No One Could Ever</td>\n",
       "      <td>Butter</td>\n",
       "      <td>Hudson Mohawke</td>\n",
       "      <td>2006</td>\n",
       "    </tr>\n",
       "    <tr>\n",
       "      <th>3</th>\n",
       "      <td>SOBNYVR12A8C13558C</td>\n",
       "      <td>Si Vos Querés</td>\n",
       "      <td>De Culo</td>\n",
       "      <td>Yerba Brava</td>\n",
       "      <td>2003</td>\n",
       "    </tr>\n",
       "    <tr>\n",
       "      <th>4</th>\n",
       "      <td>SOHSBXH12A8C13B0DF</td>\n",
       "      <td>Tangle Of Aspens</td>\n",
       "      <td>Rene Ablaze Presents Winter Sessions</td>\n",
       "      <td>Der Mystic</td>\n",
       "      <td>0</td>\n",
       "    </tr>\n",
       "  </tbody>\n",
       "</table>\n",
       "</div>"
      ],
      "text/plain": [
       "              song_id              title  \\\n",
       "0  SOQMMHC12AB0180CB8       Silent Night   \n",
       "1  SOVFVAK12A8C1350D9        Tanssi vaan   \n",
       "2  SOGTUKN12AB017F4F1  No One Could Ever   \n",
       "3  SOBNYVR12A8C13558C      Si Vos Querés   \n",
       "4  SOHSBXH12A8C13B0DF   Tangle Of Aspens   \n",
       "\n",
       "                                release       artist_name  year  \n",
       "0                 Monster Ballads X-Mas  Faster Pussy cat  2003  \n",
       "1                           Karkuteillä  Karkkiautomaatti  1995  \n",
       "2                                Butter    Hudson Mohawke  2006  \n",
       "3                               De Culo       Yerba Brava  2003  \n",
       "4  Rene Ablaze Presents Winter Sessions        Der Mystic     0  "
      ]
     },
     "execution_count": 123,
     "metadata": {},
     "output_type": "execute_result"
    }
   ],
   "source": [
    "df_songs.head()"
   ]
  },
  {
   "cell_type": "markdown",
   "id": "844d1279",
   "metadata": {},
   "source": [
    "# <font color='#AF5500'>Ahora indagemos en los datos del dataframe principal (df) para darnos una idea con lo que estaremos trabajando</font>"
   ]
  },
  {
   "cell_type": "code",
   "execution_count": 124,
   "id": "19132ef6",
   "metadata": {},
   "outputs": [
    {
     "data": {
      "text/plain": [
       "76353"
      ]
     },
     "execution_count": 124,
     "metadata": {},
     "output_type": "execute_result"
    }
   ],
   "source": [
    "df.user_id.nunique()"
   ]
  },
  {
   "cell_type": "code",
   "execution_count": 125,
   "id": "86a5b8f7",
   "metadata": {},
   "outputs": [
    {
     "data": {
      "text/plain": [
       "26.194124657839247"
      ]
     },
     "execution_count": 125,
     "metadata": {},
     "output_type": "execute_result"
    }
   ],
   "source": [
    "respuestas_promedio = df.shape[0] / df.user_id.nunique()\n",
    "respuestas_promedio"
   ]
  },
  {
   "cell_type": "markdown",
   "id": "40c71ac5",
   "metadata": {},
   "source": [
    "### <font color='#F59B46'>Vemos que en el dataframe tenemos 76353 usuarios que han respondido, los cuales han respondido en promedio 26 veces aproximadamente</font>"
   ]
  },
  {
   "cell_type": "code",
   "execution_count": 126,
   "id": "a8aba588",
   "metadata": {},
   "outputs": [
    {
     "data": {
      "text/html": [
       "<div>\n",
       "<style scoped>\n",
       "    .dataframe tbody tr th:only-of-type {\n",
       "        vertical-align: middle;\n",
       "    }\n",
       "\n",
       "    .dataframe tbody tr th {\n",
       "        vertical-align: top;\n",
       "    }\n",
       "\n",
       "    .dataframe thead th {\n",
       "        text-align: right;\n",
       "    }\n",
       "</style>\n",
       "<table border=\"1\" class=\"dataframe\">\n",
       "  <thead>\n",
       "    <tr style=\"text-align: right;\">\n",
       "      <th></th>\n",
       "      <th>user_id</th>\n",
       "      <th>song_id</th>\n",
       "      <th>listen_count</th>\n",
       "    </tr>\n",
       "  </thead>\n",
       "  <tbody>\n",
       "    <tr>\n",
       "      <th>0</th>\n",
       "      <td>b80344d063b5ccb3212f76538f3d9e43d87dca9e</td>\n",
       "      <td>SOAKIMP12A8C130995</td>\n",
       "      <td>1</td>\n",
       "    </tr>\n",
       "    <tr>\n",
       "      <th>1151076</th>\n",
       "      <td>2717cf7fe16bdb5a7e5c978349395b825dc4c223</td>\n",
       "      <td>SOJJYOM12A8C142CD9</td>\n",
       "      <td>1</td>\n",
       "    </tr>\n",
       "    <tr>\n",
       "      <th>1151075</th>\n",
       "      <td>2717cf7fe16bdb5a7e5c978349395b825dc4c223</td>\n",
       "      <td>SOJGZFQ12AF72A41B2</td>\n",
       "      <td>1</td>\n",
       "    </tr>\n",
       "    <tr>\n",
       "      <th>1151074</th>\n",
       "      <td>2717cf7fe16bdb5a7e5c978349395b825dc4c223</td>\n",
       "      <td>SOJGSFH12AB017EFC2</td>\n",
       "      <td>1</td>\n",
       "    </tr>\n",
       "    <tr>\n",
       "      <th>1151072</th>\n",
       "      <td>2717cf7fe16bdb5a7e5c978349395b825dc4c223</td>\n",
       "      <td>SOIPFGR12B0B8063CB</td>\n",
       "      <td>1</td>\n",
       "    </tr>\n",
       "  </tbody>\n",
       "</table>\n",
       "</div>"
      ],
      "text/plain": [
       "                                          user_id             song_id  \\\n",
       "0        b80344d063b5ccb3212f76538f3d9e43d87dca9e  SOAKIMP12A8C130995   \n",
       "1151076  2717cf7fe16bdb5a7e5c978349395b825dc4c223  SOJJYOM12A8C142CD9   \n",
       "1151075  2717cf7fe16bdb5a7e5c978349395b825dc4c223  SOJGZFQ12AF72A41B2   \n",
       "1151074  2717cf7fe16bdb5a7e5c978349395b825dc4c223  SOJGSFH12AB017EFC2   \n",
       "1151072  2717cf7fe16bdb5a7e5c978349395b825dc4c223  SOIPFGR12B0B8063CB   \n",
       "\n",
       "         listen_count  \n",
       "0                   1  \n",
       "1151076             1  \n",
       "1151075             1  \n",
       "1151074             1  \n",
       "1151072             1  "
      ]
     },
     "execution_count": 126,
     "metadata": {},
     "output_type": "execute_result"
    }
   ],
   "source": [
    "df.sort_values(by=\"listen_count\").head()"
   ]
  },
  {
   "cell_type": "code",
   "execution_count": 127,
   "id": "a1ff8b43",
   "metadata": {},
   "outputs": [
    {
     "data": {
      "text/html": [
       "<div>\n",
       "<style scoped>\n",
       "    .dataframe tbody tr th:only-of-type {\n",
       "        vertical-align: middle;\n",
       "    }\n",
       "\n",
       "    .dataframe tbody tr th {\n",
       "        vertical-align: top;\n",
       "    }\n",
       "\n",
       "    .dataframe thead th {\n",
       "        text-align: right;\n",
       "    }\n",
       "</style>\n",
       "<table border=\"1\" class=\"dataframe\">\n",
       "  <thead>\n",
       "    <tr style=\"text-align: right;\">\n",
       "      <th></th>\n",
       "      <th>user_id</th>\n",
       "      <th>song_id</th>\n",
       "      <th>listen_count</th>\n",
       "    </tr>\n",
       "  </thead>\n",
       "  <tbody>\n",
       "    <tr>\n",
       "      <th>1875121</th>\n",
       "      <td>c012ec364329bb08cbe3e62fe76db31f8c5d8ec3</td>\n",
       "      <td>SOBONKR12A58A7A7E0</td>\n",
       "      <td>683</td>\n",
       "    </tr>\n",
       "    <tr>\n",
       "      <th>31179</th>\n",
       "      <td>bb85bb79612e5373ac714fcd4469cabeb5ed94e1</td>\n",
       "      <td>SOZQSVB12A8C13C271</td>\n",
       "      <td>796</td>\n",
       "    </tr>\n",
       "    <tr>\n",
       "      <th>1586780</th>\n",
       "      <td>5ea608df0357ec4fda191cb9316fe8e6e65e3777</td>\n",
       "      <td>SOKOSPK12A8C13C088</td>\n",
       "      <td>879</td>\n",
       "    </tr>\n",
       "    <tr>\n",
       "      <th>1048310</th>\n",
       "      <td>50996bbabb6f7857bf0c8019435b5246a0e45cfd</td>\n",
       "      <td>SOUAGPQ12A8AE47B3A</td>\n",
       "      <td>920</td>\n",
       "    </tr>\n",
       "    <tr>\n",
       "      <th>1228366</th>\n",
       "      <td>d13609d62db6df876d3cc388225478618bb7b912</td>\n",
       "      <td>SOFCGSE12AF72A674F</td>\n",
       "      <td>2213</td>\n",
       "    </tr>\n",
       "  </tbody>\n",
       "</table>\n",
       "</div>"
      ],
      "text/plain": [
       "                                          user_id             song_id  \\\n",
       "1875121  c012ec364329bb08cbe3e62fe76db31f8c5d8ec3  SOBONKR12A58A7A7E0   \n",
       "31179    bb85bb79612e5373ac714fcd4469cabeb5ed94e1  SOZQSVB12A8C13C271   \n",
       "1586780  5ea608df0357ec4fda191cb9316fe8e6e65e3777  SOKOSPK12A8C13C088   \n",
       "1048310  50996bbabb6f7857bf0c8019435b5246a0e45cfd  SOUAGPQ12A8AE47B3A   \n",
       "1228366  d13609d62db6df876d3cc388225478618bb7b912  SOFCGSE12AF72A674F   \n",
       "\n",
       "         listen_count  \n",
       "1875121           683  \n",
       "31179             796  \n",
       "1586780           879  \n",
       "1048310           920  \n",
       "1228366          2213  "
      ]
     },
     "execution_count": 127,
     "metadata": {},
     "output_type": "execute_result"
    }
   ],
   "source": [
    "df.sort_values(by=\"listen_count\").tail()"
   ]
  },
  {
   "cell_type": "markdown",
   "id": "cec2d0ec",
   "metadata": {},
   "source": [
    "### <font color='#F59B46'>Vemos que hay usuarios que han oido una cancion desde 1 vez hasta usuarios que han escuchado una cancion mas de 2000 veces</font>"
   ]
  },
  {
   "cell_type": "code",
   "execution_count": 128,
   "id": "979f32cb",
   "metadata": {},
   "outputs": [
    {
     "data": {
      "text/plain": [
       "user_id         0\n",
       "song_id         0\n",
       "listen_count    0\n",
       "dtype: int64"
      ]
     },
     "execution_count": 128,
     "metadata": {},
     "output_type": "execute_result"
    }
   ],
   "source": [
    "df.isnull().sum()"
   ]
  },
  {
   "cell_type": "code",
   "execution_count": 129,
   "id": "4d85d886",
   "metadata": {},
   "outputs": [
    {
     "data": {
      "text/plain": [
       "listen_count\n",
       "1    1138433\n",
       "2     313043\n",
       "3     142933\n",
       "5      93136\n",
       "4      82569\n",
       "Name: count, dtype: int64"
      ]
     },
     "execution_count": 129,
     "metadata": {},
     "output_type": "execute_result"
    }
   ],
   "source": [
    "c = df['listen_count'].value_counts()\n",
    "c.head()"
   ]
  },
  {
   "cell_type": "code",
   "execution_count": 134,
   "id": "bf08c50c",
   "metadata": {},
   "outputs": [
    {
     "data": {
      "text/plain": [
       "2000000"
      ]
     },
     "execution_count": 134,
     "metadata": {},
     "output_type": "execute_result"
    }
   ],
   "source": [
    "c.sum()"
   ]
  },
  {
   "cell_type": "code",
   "execution_count": 135,
   "id": "6fb5c7ac",
   "metadata": {},
   "outputs": [
    {
     "data": {
      "text/plain": [
       "295"
      ]
     },
     "execution_count": 135,
     "metadata": {},
     "output_type": "execute_result"
    }
   ],
   "source": [
    "df['listen_count'].nunique()"
   ]
  },
  {
   "cell_type": "code",
   "execution_count": 136,
   "id": "54dd6860",
   "metadata": {},
   "outputs": [],
   "source": [
    "import matplotlib.pyplot as plt\n",
    "import seaborn as sns"
   ]
  },
  {
   "cell_type": "code",
   "execution_count": 171,
   "id": "c0a43b5d",
   "metadata": {},
   "outputs": [
    {
     "data": {
      "image/png": "[encoded data removed]",
      "text/plain": [
       "<Figure size 1500x600 with 1 Axes>"
      ]
     },
     "metadata": {},
     "output_type": "display_data"
    }
   ],
   "source": [
    "plt.figure(figsize=(15, 6))\n",
    "\n",
    "sns.barplot(x=c.index, y=c, color='orange')\n",
    "plt.xlabel('listen_count')\n",
    "plt.ylabel('Cantidad')\n",
    "\n",
    "plt.show()"
   ]
  },
  {
   "cell_type": "markdown",
   "id": "f686c4d1",
   "metadata": {},
   "source": [
    "### <font color='#F59B46'>Aqui tenemos un problema, pues tenemos una gran cantidad de 'numero de escuchadas', casi 300, por lo que para hacerlo mas general y hacer recomendaciones mas generales, haremos rangos de estas escuchadas por cancion. Sin embargo no los podemos hacer simplemente dividiendo las respuestas en n rangos, tenemos que tomar en cuenta aquellos usuarios que nos sirven, es decir, ignorar los casos aislados para dar mejores rangos de calificacion</font>"
   ]
  },
  {
   "cell_type": "markdown",
   "id": "f795aaef",
   "metadata": {},
   "source": [
    "### <font color='#F59B46'>Para eso analicemos como son las respuestas de la mayoria de los usuarios</font>"
   ]
  },
  {
   "cell_type": "code",
   "execution_count": 138,
   "id": "b3cf4670",
   "metadata": {},
   "outputs": [
    {
     "data": {
      "text/html": [
       "<div>\n",
       "<style scoped>\n",
       "    .dataframe tbody tr th:only-of-type {\n",
       "        vertical-align: middle;\n",
       "    }\n",
       "\n",
       "    .dataframe tbody tr th {\n",
       "        vertical-align: top;\n",
       "    }\n",
       "\n",
       "    .dataframe thead th {\n",
       "        text-align: right;\n",
       "    }\n",
       "</style>\n",
       "<table border=\"1\" class=\"dataframe\">\n",
       "  <thead>\n",
       "    <tr style=\"text-align: right;\">\n",
       "      <th></th>\n",
       "      <th>sum</th>\n",
       "      <th>count</th>\n",
       "      <th>mean</th>\n",
       "    </tr>\n",
       "    <tr>\n",
       "      <th>user_id</th>\n",
       "      <th></th>\n",
       "      <th></th>\n",
       "      <th></th>\n",
       "    </tr>\n",
       "  </thead>\n",
       "  <tbody>\n",
       "    <tr>\n",
       "      <th>00003a4459f33b92906be11abe0e93efc423c0ff</th>\n",
       "      <td>17</td>\n",
       "      <td>7</td>\n",
       "      <td>2.428571</td>\n",
       "    </tr>\n",
       "    <tr>\n",
       "      <th>00005c6177188f12fb5e2e82cdbd93e8a3f35e64</th>\n",
       "      <td>6</td>\n",
       "      <td>5</td>\n",
       "      <td>1.200000</td>\n",
       "    </tr>\n",
       "    <tr>\n",
       "      <th>00030033e3a2f904a48ec1dd53019c9969b6ef1f</th>\n",
       "      <td>24</td>\n",
       "      <td>9</td>\n",
       "      <td>2.666667</td>\n",
       "    </tr>\n",
       "    <tr>\n",
       "      <th>0007235c769e610e3d339a17818a5708e41008d9</th>\n",
       "      <td>30</td>\n",
       "      <td>10</td>\n",
       "      <td>3.000000</td>\n",
       "    </tr>\n",
       "    <tr>\n",
       "      <th>0007c0e74728ca9ef0fe4eb7f75732e8026a278b</th>\n",
       "      <td>10</td>\n",
       "      <td>9</td>\n",
       "      <td>1.111111</td>\n",
       "    </tr>\n",
       "  </tbody>\n",
       "</table>\n",
       "</div>"
      ],
      "text/plain": [
       "                                          sum  count      mean\n",
       "user_id                                                       \n",
       "00003a4459f33b92906be11abe0e93efc423c0ff   17      7  2.428571\n",
       "00005c6177188f12fb5e2e82cdbd93e8a3f35e64    6      5  1.200000\n",
       "00030033e3a2f904a48ec1dd53019c9969b6ef1f   24      9  2.666667\n",
       "0007235c769e610e3d339a17818a5708e41008d9   30     10  3.000000\n",
       "0007c0e74728ca9ef0fe4eb7f75732e8026a278b   10      9  1.111111"
      ]
     },
     "execution_count": 138,
     "metadata": {},
     "output_type": "execute_result"
    }
   ],
   "source": [
    "analisis = df.groupby('user_id')['listen_count'].aggregate([sum,'count','mean'])\n",
    "analisis.head()\n",
    "\n",
    "#sum -> la suma de las veces que han escuchado una cancion\n",
    "#count -> el numero de canciones que han escuchado\n",
    "#mean -> la las veces promedio que escuchan una cancion"
   ]
  },
  {
   "cell_type": "code",
   "execution_count": 139,
   "id": "14490e97",
   "metadata": {},
   "outputs": [
    {
     "data": {
      "image/png": "[encoded data removed]",
      "text/plain": [
       "<Figure size 1200x800 with 3 Axes>"
      ]
     },
     "metadata": {},
     "output_type": "display_data"
    }
   ],
   "source": [
    "from matplotlib.gridspec import GridSpec\n",
    "\n",
    "fig = plt.figure(figsize=(12, 8))\n",
    "gs = GridSpec(2, 2, height_ratios=[1, 1])\n",
    "\n",
    "ax1 = fig.add_subplot(gs[0, 0])\n",
    "ax2 = fig.add_subplot(gs[0, 1])\n",
    "ax3 = fig.add_subplot(gs[1, :])\n",
    "\n",
    "sns.histplot(analisis['sum'], bins=120, kde=True, ax=ax1, color='blue')\n",
    "ax1.set_xlabel('Total Listen Count per User')\n",
    "ax1.set_ylabel('Cantidad de usuarios')\n",
    "ax1.set_title('Veces que han escuchado una cancion')\n",
    "\n",
    "sns.histplot(analisis['count'], bins=120, kde=True, ax=ax2, color='green')\n",
    "ax2.set_xlabel('Total Listen Count per User')\n",
    "ax2.set_ylabel('Cantidad de usuarios')\n",
    "ax2.set_title('Canciones que han escuchado')\n",
    "\n",
    "sns.histplot(analisis['mean'], bins=250, kde=True, ax=ax3, color='red')\n",
    "ax3.set_xlabel('Total Listen Count per User')\n",
    "ax3.set_ylabel('Cantidad de usuarios')\n",
    "ax3.set_title('Veces promedio que escuchan una cancion')\n",
    "\n",
    "plt.tight_layout()\n",
    "\n",
    "plt.show()"
   ]
  },
  {
   "cell_type": "markdown",
   "id": "b80e3054",
   "metadata": {},
   "source": [
    "### <font color='#F59B46'>Como podemos observar la mayoria de los usuarios en promedio escuchan de 1 a 15 veces una cancion, por lo que de ahi nos podremos basar para construir nuestras calificaciones, tomando en cuenta las escuchadas de 1 a 15 y aquellos que hayan escuchado cientos o miles de veces canciones, evitarlos, es decir, ignorar casos muy aislados.</font>"
   ]
  },
  {
   "cell_type": "code",
   "execution_count": 144,
   "id": "5f5fc8c9",
   "metadata": {},
   "outputs": [
    {
     "data": {
      "text/html": [
       "<div>\n",
       "<style scoped>\n",
       "    .dataframe tbody tr th:only-of-type {\n",
       "        vertical-align: middle;\n",
       "    }\n",
       "\n",
       "    .dataframe tbody tr th {\n",
       "        vertical-align: top;\n",
       "    }\n",
       "\n",
       "    .dataframe thead th {\n",
       "        text-align: right;\n",
       "    }\n",
       "</style>\n",
       "<table border=\"1\" class=\"dataframe\">\n",
       "  <thead>\n",
       "    <tr style=\"text-align: right;\">\n",
       "      <th></th>\n",
       "      <th>user_id</th>\n",
       "      <th>song_id</th>\n",
       "      <th>listen_count</th>\n",
       "      <th>calificacion</th>\n",
       "    </tr>\n",
       "  </thead>\n",
       "  <tbody>\n",
       "    <tr>\n",
       "      <th>0</th>\n",
       "      <td>b80344d063b5ccb3212f76538f3d9e43d87dca9e</td>\n",
       "      <td>SOAKIMP12A8C130995</td>\n",
       "      <td>1</td>\n",
       "      <td>1</td>\n",
       "    </tr>\n",
       "    <tr>\n",
       "      <th>1</th>\n",
       "      <td>b80344d063b5ccb3212f76538f3d9e43d87dca9e</td>\n",
       "      <td>SOBBMDR12A8C13253B</td>\n",
       "      <td>2</td>\n",
       "      <td>2</td>\n",
       "    </tr>\n",
       "    <tr>\n",
       "      <th>2</th>\n",
       "      <td>b80344d063b5ccb3212f76538f3d9e43d87dca9e</td>\n",
       "      <td>SOBXHDL12A81C204C0</td>\n",
       "      <td>1</td>\n",
       "      <td>1</td>\n",
       "    </tr>\n",
       "    <tr>\n",
       "      <th>3</th>\n",
       "      <td>b80344d063b5ccb3212f76538f3d9e43d87dca9e</td>\n",
       "      <td>SOBYHAJ12A6701BF1D</td>\n",
       "      <td>1</td>\n",
       "      <td>1</td>\n",
       "    </tr>\n",
       "    <tr>\n",
       "      <th>4</th>\n",
       "      <td>b80344d063b5ccb3212f76538f3d9e43d87dca9e</td>\n",
       "      <td>SODACBL12A8C13C273</td>\n",
       "      <td>1</td>\n",
       "      <td>1</td>\n",
       "    </tr>\n",
       "  </tbody>\n",
       "</table>\n",
       "</div>"
      ],
      "text/plain": [
       "                                    user_id             song_id  listen_count  \\\n",
       "0  b80344d063b5ccb3212f76538f3d9e43d87dca9e  SOAKIMP12A8C130995             1   \n",
       "1  b80344d063b5ccb3212f76538f3d9e43d87dca9e  SOBBMDR12A8C13253B             2   \n",
       "2  b80344d063b5ccb3212f76538f3d9e43d87dca9e  SOBXHDL12A81C204C0             1   \n",
       "3  b80344d063b5ccb3212f76538f3d9e43d87dca9e  SOBYHAJ12A6701BF1D             1   \n",
       "4  b80344d063b5ccb3212f76538f3d9e43d87dca9e  SODACBL12A8C13C273             1   \n",
       "\n",
       "  calificacion  \n",
       "0            1  \n",
       "1            2  \n",
       "2            1  \n",
       "3            1  \n",
       "4            1  "
      ]
     },
     "execution_count": 144,
     "metadata": {},
     "output_type": "execute_result"
    }
   ],
   "source": [
    "#bins = [0, 3, 10, 20, 30, 40, 50, 100, 200, 500, float('inf')] Manera incorrecta\n",
    "#bins = [0, 1, 2, 3, 4, 5, 6, 7, 8, 9, 2214] Manera incorrecta\n",
    "\n",
    "bins = [1, 2, 3, 4, 6, 8, 10, 12, 14, 16, 2214]\n",
    "\n",
    "labels = [1, 2, 3, 4, 5, 6, 7, 8, 9, 10]\n",
    "\n",
    "df['calificacion'] = pd.cut(df['listen_count'], bins=bins, labels=labels, right=False)\n",
    "\n",
    "df.head()"
   ]
  },
  {
   "cell_type": "code",
   "execution_count": 145,
   "id": "5a148df3",
   "metadata": {},
   "outputs": [
    {
     "data": {
      "text/plain": [
       "numpy.int64"
      ]
     },
     "execution_count": 145,
     "metadata": {},
     "output_type": "execute_result"
    }
   ],
   "source": [
    "#rectificamos que la nueva columan sea de numeros\n",
    "\n",
    "df['calificacion'] = df['calificacion'].astype(int)\n",
    "\n",
    "type(df['calificacion'][0])"
   ]
  },
  {
   "cell_type": "code",
   "execution_count": 161,
   "id": "41f19951",
   "metadata": {
    "scrolled": true
   },
   "outputs": [
    {
     "data": {
      "text/plain": [
       "calificacion\n",
       "1     1138433\n",
       "2      313043\n",
       "4      175705\n",
       "3      142933\n",
       "5       76552\n",
       "10      51245\n",
       "6       39297\n",
       "7       31452\n",
       "8       17906\n",
       "9       13434\n",
       "Name: count, dtype: int64"
      ]
     },
     "execution_count": 161,
     "metadata": {},
     "output_type": "execute_result"
    }
   ],
   "source": [
    "d = pd.Series(df['calificacion'].value_counts())\n",
    "d"
   ]
  },
  {
   "cell_type": "code",
   "execution_count": 162,
   "id": "2ecfaeaa",
   "metadata": {
    "scrolled": true
   },
   "outputs": [
    {
     "data": {
      "text/plain": [
       "10"
      ]
     },
     "execution_count": 162,
     "metadata": {},
     "output_type": "execute_result"
    }
   ],
   "source": [
    "df['calificacion'].nunique()"
   ]
  },
  {
   "cell_type": "code",
   "execution_count": 172,
   "id": "5496416c",
   "metadata": {},
   "outputs": [
    {
     "data": {
      "image/png": "[encoded data removed]",
      "text/plain": [
       "<Figure size 1500x600 with 1 Axes>"
      ]
     },
     "metadata": {},
     "output_type": "display_data"
    }
   ],
   "source": [
    "plt.figure(figsize=(15, 6))\n",
    "\n",
    "sns.barplot(x=d.index, y=d, color='orange')\n",
    "plt.xlabel('Calificación')\n",
    "plt.ylabel('Cantidad')\n",
    "\n",
    "plt.show()"
   ]
  },
  {
   "cell_type": "markdown",
   "id": "8e844232",
   "metadata": {},
   "source": [
    "### <font color='#F59B46'>Por ultimo eliminamos la columna 'listen_count' pues ya no nos importa</font>"
   ]
  },
  {
   "cell_type": "code",
   "execution_count": 173,
   "id": "cb85b38e",
   "metadata": {},
   "outputs": [
    {
     "data": {
      "text/html": [
       "<div>\n",
       "<style scoped>\n",
       "    .dataframe tbody tr th:only-of-type {\n",
       "        vertical-align: middle;\n",
       "    }\n",
       "\n",
       "    .dataframe tbody tr th {\n",
       "        vertical-align: top;\n",
       "    }\n",
       "\n",
       "    .dataframe thead th {\n",
       "        text-align: right;\n",
       "    }\n",
       "</style>\n",
       "<table border=\"1\" class=\"dataframe\">\n",
       "  <thead>\n",
       "    <tr style=\"text-align: right;\">\n",
       "      <th></th>\n",
       "      <th>user_id</th>\n",
       "      <th>song_id</th>\n",
       "      <th>calificacion</th>\n",
       "    </tr>\n",
       "  </thead>\n",
       "  <tbody>\n",
       "    <tr>\n",
       "      <th>0</th>\n",
       "      <td>b80344d063b5ccb3212f76538f3d9e43d87dca9e</td>\n",
       "      <td>SOAKIMP12A8C130995</td>\n",
       "      <td>1</td>\n",
       "    </tr>\n",
       "    <tr>\n",
       "      <th>1</th>\n",
       "      <td>b80344d063b5ccb3212f76538f3d9e43d87dca9e</td>\n",
       "      <td>SOBBMDR12A8C13253B</td>\n",
       "      <td>2</td>\n",
       "    </tr>\n",
       "    <tr>\n",
       "      <th>2</th>\n",
       "      <td>b80344d063b5ccb3212f76538f3d9e43d87dca9e</td>\n",
       "      <td>SOBXHDL12A81C204C0</td>\n",
       "      <td>1</td>\n",
       "    </tr>\n",
       "    <tr>\n",
       "      <th>3</th>\n",
       "      <td>b80344d063b5ccb3212f76538f3d9e43d87dca9e</td>\n",
       "      <td>SOBYHAJ12A6701BF1D</td>\n",
       "      <td>1</td>\n",
       "    </tr>\n",
       "    <tr>\n",
       "      <th>4</th>\n",
       "      <td>b80344d063b5ccb3212f76538f3d9e43d87dca9e</td>\n",
       "      <td>SODACBL12A8C13C273</td>\n",
       "      <td>1</td>\n",
       "    </tr>\n",
       "  </tbody>\n",
       "</table>\n",
       "</div>"
      ],
      "text/plain": [
       "                                    user_id             song_id  calificacion\n",
       "0  b80344d063b5ccb3212f76538f3d9e43d87dca9e  SOAKIMP12A8C130995             1\n",
       "1  b80344d063b5ccb3212f76538f3d9e43d87dca9e  SOBBMDR12A8C13253B             2\n",
       "2  b80344d063b5ccb3212f76538f3d9e43d87dca9e  SOBXHDL12A81C204C0             1\n",
       "3  b80344d063b5ccb3212f76538f3d9e43d87dca9e  SOBYHAJ12A6701BF1D             1\n",
       "4  b80344d063b5ccb3212f76538f3d9e43d87dca9e  SODACBL12A8C13C273             1"
      ]
     },
     "execution_count": 173,
     "metadata": {},
     "output_type": "execute_result"
    }
   ],
   "source": [
    "df = df.drop('listen_count', axis=1)\n",
    "df.head()"
   ]
  },
  {
   "cell_type": "markdown",
   "id": "5cf62bac",
   "metadata": {},
   "source": [
    "\n",
    "### <font color='#F59B46'>Ahora toca dividir nuestros datos, para poder entrenar, testear y validar nuestro modelo</font>"
   ]
  },
  {
   "cell_type": "code",
   "execution_count": 174,
   "id": "d79bdcc7",
   "metadata": {},
   "outputs": [],
   "source": [
    "from sklearn.model_selection import train_test_split"
   ]
  },
  {
   "cell_type": "code",
   "execution_count": 175,
   "id": "86a801b5",
   "metadata": {},
   "outputs": [
    {
     "name": "stdout",
     "output_type": "stream",
     "text": [
      "(1600000, 3) (400000, 3)\n"
     ]
    }
   ],
   "source": [
    "df_train, df_val = train_test_split(df, test_size = 0.2, random_state=1)\n",
    "print(df_train.shape, df_val.shape)"
   ]
  },
  {
   "cell_type": "code",
   "execution_count": 176,
   "id": "db23bc36",
   "metadata": {},
   "outputs": [
    {
     "data": {
      "text/html": [
       "<div>\n",
       "<style scoped>\n",
       "    .dataframe tbody tr th:only-of-type {\n",
       "        vertical-align: middle;\n",
       "    }\n",
       "\n",
       "    .dataframe tbody tr th {\n",
       "        vertical-align: top;\n",
       "    }\n",
       "\n",
       "    .dataframe thead th {\n",
       "        text-align: right;\n",
       "    }\n",
       "</style>\n",
       "<table border=\"1\" class=\"dataframe\">\n",
       "  <thead>\n",
       "    <tr style=\"text-align: right;\">\n",
       "      <th></th>\n",
       "      <th>user_id</th>\n",
       "      <th>song_id</th>\n",
       "      <th>calificacion</th>\n",
       "    </tr>\n",
       "  </thead>\n",
       "  <tbody>\n",
       "    <tr>\n",
       "      <th>1952144</th>\n",
       "      <td>2ce5b56b6c651accc947db94e5f5b37b51a8b4dc</td>\n",
       "      <td>SOXHIDK12A58A7CFB3</td>\n",
       "      <td>1</td>\n",
       "    </tr>\n",
       "    <tr>\n",
       "      <th>767002</th>\n",
       "      <td>a540373b4f88f7a34203ce1c8bbfa0bb56679aaf</td>\n",
       "      <td>SOITJIQ12A8C13A291</td>\n",
       "      <td>1</td>\n",
       "    </tr>\n",
       "    <tr>\n",
       "      <th>797412</th>\n",
       "      <td>c6c9c2f0cb0174cc67f4bd803431e709438ba360</td>\n",
       "      <td>SOUSOKG12A58A7AC15</td>\n",
       "      <td>4</td>\n",
       "    </tr>\n",
       "    <tr>\n",
       "      <th>1235336</th>\n",
       "      <td>2c460774b978af80929ace6109bbf405c9c872bc</td>\n",
       "      <td>SOWUEQA12A8151BA81</td>\n",
       "      <td>1</td>\n",
       "    </tr>\n",
       "    <tr>\n",
       "      <th>1955142</th>\n",
       "      <td>2869bf0c721e75cc0871adb749916085e3ef23f0</td>\n",
       "      <td>SOSHJIH12AF72A1D72</td>\n",
       "      <td>1</td>\n",
       "    </tr>\n",
       "  </tbody>\n",
       "</table>\n",
       "</div>"
      ],
      "text/plain": [
       "                                          user_id             song_id  \\\n",
       "1952144  2ce5b56b6c651accc947db94e5f5b37b51a8b4dc  SOXHIDK12A58A7CFB3   \n",
       "767002   a540373b4f88f7a34203ce1c8bbfa0bb56679aaf  SOITJIQ12A8C13A291   \n",
       "797412   c6c9c2f0cb0174cc67f4bd803431e709438ba360  SOUSOKG12A58A7AC15   \n",
       "1235336  2c460774b978af80929ace6109bbf405c9c872bc  SOWUEQA12A8151BA81   \n",
       "1955142  2869bf0c721e75cc0871adb749916085e3ef23f0  SOSHJIH12AF72A1D72   \n",
       "\n",
       "         calificacion  \n",
       "1952144             1  \n",
       "767002              1  \n",
       "797412              4  \n",
       "1235336             1  \n",
       "1955142             1  "
      ]
     },
     "execution_count": 176,
     "metadata": {},
     "output_type": "execute_result"
    }
   ],
   "source": [
    "df_train.head()"
   ]
  },
  {
   "cell_type": "code",
   "execution_count": 177,
   "id": "0dd526a9",
   "metadata": {},
   "outputs": [
    {
     "data": {
      "text/html": [
       "<div>\n",
       "<style scoped>\n",
       "    .dataframe tbody tr th:only-of-type {\n",
       "        vertical-align: middle;\n",
       "    }\n",
       "\n",
       "    .dataframe tbody tr th {\n",
       "        vertical-align: top;\n",
       "    }\n",
       "\n",
       "    .dataframe thead th {\n",
       "        text-align: right;\n",
       "    }\n",
       "</style>\n",
       "<table border=\"1\" class=\"dataframe\">\n",
       "  <thead>\n",
       "    <tr style=\"text-align: right;\">\n",
       "      <th></th>\n",
       "      <th>user_id</th>\n",
       "      <th>song_id</th>\n",
       "      <th>calificacion</th>\n",
       "    </tr>\n",
       "  </thead>\n",
       "  <tbody>\n",
       "    <tr>\n",
       "      <th>1952144</th>\n",
       "      <td>2ce5b56b6c651accc947db94e5f5b37b51a8b4dc</td>\n",
       "      <td>SOXHIDK12A58A7CFB3</td>\n",
       "      <td>1</td>\n",
       "    </tr>\n",
       "    <tr>\n",
       "      <th>767002</th>\n",
       "      <td>a540373b4f88f7a34203ce1c8bbfa0bb56679aaf</td>\n",
       "      <td>SOITJIQ12A8C13A291</td>\n",
       "      <td>1</td>\n",
       "    </tr>\n",
       "    <tr>\n",
       "      <th>797412</th>\n",
       "      <td>c6c9c2f0cb0174cc67f4bd803431e709438ba360</td>\n",
       "      <td>SOUSOKG12A58A7AC15</td>\n",
       "      <td>4</td>\n",
       "    </tr>\n",
       "    <tr>\n",
       "      <th>1235336</th>\n",
       "      <td>2c460774b978af80929ace6109bbf405c9c872bc</td>\n",
       "      <td>SOWUEQA12A8151BA81</td>\n",
       "      <td>1</td>\n",
       "    </tr>\n",
       "    <tr>\n",
       "      <th>1955142</th>\n",
       "      <td>2869bf0c721e75cc0871adb749916085e3ef23f0</td>\n",
       "      <td>SOSHJIH12AF72A1D72</td>\n",
       "      <td>1</td>\n",
       "    </tr>\n",
       "    <tr>\n",
       "      <th>...</th>\n",
       "      <td>...</td>\n",
       "      <td>...</td>\n",
       "      <td>...</td>\n",
       "    </tr>\n",
       "    <tr>\n",
       "      <th>491263</th>\n",
       "      <td>e6f1dd0b1cb86f83aa056289ef6b83c059064773</td>\n",
       "      <td>SOLQSWM12A6D4FA60D</td>\n",
       "      <td>1</td>\n",
       "    </tr>\n",
       "    <tr>\n",
       "      <th>1840200</th>\n",
       "      <td>fe75beb1e8dcba3145048acc92d3f5a94ac0ae5b</td>\n",
       "      <td>SOSJZID12A8C13E802</td>\n",
       "      <td>2</td>\n",
       "    </tr>\n",
       "    <tr>\n",
       "      <th>470924</th>\n",
       "      <td>c2ec3f7c38ae13c8819c978d0b33b3c406f11c24</td>\n",
       "      <td>SORKVID12A6D4FC6D2</td>\n",
       "      <td>1</td>\n",
       "    </tr>\n",
       "    <tr>\n",
       "      <th>491755</th>\n",
       "      <td>db7c0b803e0a137e8f32ff52c44571960fdc730c</td>\n",
       "      <td>SOOXLKF12A6D4F594A</td>\n",
       "      <td>1</td>\n",
       "    </tr>\n",
       "    <tr>\n",
       "      <th>128037</th>\n",
       "      <td>0e568bfc688e99ef97cb0b0371e5dc7f619545fd</td>\n",
       "      <td>SOATJMN12AB0184D1E</td>\n",
       "      <td>1</td>\n",
       "    </tr>\n",
       "  </tbody>\n",
       "</table>\n",
       "<p>1600000 rows × 3 columns</p>\n",
       "</div>"
      ],
      "text/plain": [
       "                                          user_id             song_id  \\\n",
       "1952144  2ce5b56b6c651accc947db94e5f5b37b51a8b4dc  SOXHIDK12A58A7CFB3   \n",
       "767002   a540373b4f88f7a34203ce1c8bbfa0bb56679aaf  SOITJIQ12A8C13A291   \n",
       "797412   c6c9c2f0cb0174cc67f4bd803431e709438ba360  SOUSOKG12A58A7AC15   \n",
       "1235336  2c460774b978af80929ace6109bbf405c9c872bc  SOWUEQA12A8151BA81   \n",
       "1955142  2869bf0c721e75cc0871adb749916085e3ef23f0  SOSHJIH12AF72A1D72   \n",
       "...                                           ...                 ...   \n",
       "491263   e6f1dd0b1cb86f83aa056289ef6b83c059064773  SOLQSWM12A6D4FA60D   \n",
       "1840200  fe75beb1e8dcba3145048acc92d3f5a94ac0ae5b  SOSJZID12A8C13E802   \n",
       "470924   c2ec3f7c38ae13c8819c978d0b33b3c406f11c24  SORKVID12A6D4FC6D2   \n",
       "491755   db7c0b803e0a137e8f32ff52c44571960fdc730c  SOOXLKF12A6D4F594A   \n",
       "128037   0e568bfc688e99ef97cb0b0371e5dc7f619545fd  SOATJMN12AB0184D1E   \n",
       "\n",
       "         calificacion  \n",
       "1952144             1  \n",
       "767002              1  \n",
       "797412              4  \n",
       "1235336             1  \n",
       "1955142             1  \n",
       "...               ...  \n",
       "491263              1  \n",
       "1840200             2  \n",
       "470924              1  \n",
       "491755              1  \n",
       "128037              1  \n",
       "\n",
       "[1600000 rows x 3 columns]"
      ]
     },
     "execution_count": 177,
     "metadata": {},
     "output_type": "execute_result"
    }
   ],
   "source": [
    "df_train[[\"user_id\",\"song_id\",\"calificacion\"]]"
   ]
  },
  {
   "cell_type": "markdown",
   "id": "bb3d3f99",
   "metadata": {},
   "source": [
    "### <font color='#F59B46'>Ya con los datos preparados, es hora de crear la matriz usuarios x canciones, para luego descomponerla mediante SVD en otras 3, las cuales usaremos para nuestro sistema de recomendacion, una para los usuarios, una diagonal y otra para las canciones</font>"
   ]
  },
  {
   "cell_type": "markdown",
   "id": "9d1cd674",
   "metadata": {},
   "source": [
    "### <font color='#F59B46'>Lo antes dicho puede ser \"omitido\" en codigo, pues usaremos una libreria que crea y descompone la matriz por su cuenta, pero es importante recalcar que es lo que hace, pues asi funciona SVD</font>"
   ]
  },
  {
   "cell_type": "markdown",
   "id": "93572614",
   "metadata": {},
   "source": [
    "# <font color='#AF5500'>Es momento de crear el modelo</font>"
   ]
  },
  {
   "cell_type": "code",
   "execution_count": 178,
   "id": "8c876884",
   "metadata": {},
   "outputs": [],
   "source": [
    "from surprise import SVD, Dataset, Reader, accuracy\n",
    "from surprise.model_selection import cross_validate\n",
    "\n",
    "reader = Reader(line_format='user item rating', rating_scale=(1, 10))"
   ]
  },
  {
   "cell_type": "code",
   "execution_count": 179,
   "id": "e8885622",
   "metadata": {},
   "outputs": [],
   "source": [
    "dataTrain = Dataset.load_from_df(df_train[[\"user_id\",\"song_id\",\"calificacion\"]], reader=reader)\n",
    "dataTrain = dataTrain.build_full_trainset()\n",
    "\n",
    "dataTest = Dataset.load_from_df(df_val[[\"user_id\",\"song_id\",\"calificacion\"]], reader=reader)\n",
    "dataTest = dataTest.construct_testset(dataTest.raw_ratings)"
   ]
  },
  {
   "cell_type": "code",
   "execution_count": 180,
   "id": "c8368d15",
   "metadata": {},
   "outputs": [
    {
     "name": "stdout",
     "output_type": "stream",
     "text": [
      "RMSE: 1.8350\n"
     ]
    },
    {
     "data": {
      "text/plain": [
       "1.834956489514489"
      ]
     },
     "execution_count": 180,
     "metadata": {},
     "output_type": "execute_result"
    }
   ],
   "source": [
    "algo = SVD()\n",
    "\n",
    "algo.fit(dataTrain)\n",
    "\n",
    "predictions = algo.test(dataTest)\n",
    "\n",
    "accuracy.rmse(predictions)"
   ]
  },
  {
   "cell_type": "markdown",
   "id": "6787e2f6",
   "metadata": {},
   "source": [
    "### <font color='#F59B46'>En una escala de 1 a 10, un error de 1.83 puntos es relativamente pequeño, lo que sugiere que el modelo está prediciendo las calificaciones sin llegar a un sobreajuste.</font>"
   ]
  },
  {
   "cell_type": "code",
   "execution_count": 181,
   "id": "28fb777e",
   "metadata": {},
   "outputs": [
    {
     "data": {
      "text/html": [
       "<div>\n",
       "<style scoped>\n",
       "    .dataframe tbody tr th:only-of-type {\n",
       "        vertical-align: middle;\n",
       "    }\n",
       "\n",
       "    .dataframe tbody tr th {\n",
       "        vertical-align: top;\n",
       "    }\n",
       "\n",
       "    .dataframe thead th {\n",
       "        text-align: right;\n",
       "    }\n",
       "</style>\n",
       "<table border=\"1\" class=\"dataframe\">\n",
       "  <thead>\n",
       "    <tr style=\"text-align: right;\">\n",
       "      <th></th>\n",
       "      <th>user_id</th>\n",
       "      <th>song_id</th>\n",
       "      <th>calificacion</th>\n",
       "    </tr>\n",
       "  </thead>\n",
       "  <tbody>\n",
       "    <tr>\n",
       "      <th>1806398</th>\n",
       "      <td>f74715141f556a690b554e4bda4ec441f976c97d</td>\n",
       "      <td>SOJOIKI12AB0187525</td>\n",
       "      <td>1</td>\n",
       "    </tr>\n",
       "    <tr>\n",
       "      <th>422849</th>\n",
       "      <td>36f4f0163fe74c1f88c49b5c79ca00f9fa304d13</td>\n",
       "      <td>SOVBQOM12A8C137B16</td>\n",
       "      <td>1</td>\n",
       "    </tr>\n",
       "    <tr>\n",
       "      <th>1772714</th>\n",
       "      <td>a187486100bafebe5264a216d6dfc1646dbd2f03</td>\n",
       "      <td>SOYFNQM12A8C14264B</td>\n",
       "      <td>4</td>\n",
       "    </tr>\n",
       "    <tr>\n",
       "      <th>828325</th>\n",
       "      <td>775fb230d87357dbab455808c4ff9831fb65ad46</td>\n",
       "      <td>SOABNPW12A6D4FC9B5</td>\n",
       "      <td>1</td>\n",
       "    </tr>\n",
       "    <tr>\n",
       "      <th>659831</th>\n",
       "      <td>76bc893a4163b46d5474d501e1d11456546b50d2</td>\n",
       "      <td>SONUHDN12AB01800D7</td>\n",
       "      <td>1</td>\n",
       "    </tr>\n",
       "  </tbody>\n",
       "</table>\n",
       "</div>"
      ],
      "text/plain": [
       "                                          user_id             song_id  \\\n",
       "1806398  f74715141f556a690b554e4bda4ec441f976c97d  SOJOIKI12AB0187525   \n",
       "422849   36f4f0163fe74c1f88c49b5c79ca00f9fa304d13  SOVBQOM12A8C137B16   \n",
       "1772714  a187486100bafebe5264a216d6dfc1646dbd2f03  SOYFNQM12A8C14264B   \n",
       "828325   775fb230d87357dbab455808c4ff9831fb65ad46  SOABNPW12A6D4FC9B5   \n",
       "659831   76bc893a4163b46d5474d501e1d11456546b50d2  SONUHDN12AB01800D7   \n",
       "\n",
       "         calificacion  \n",
       "1806398             1  \n",
       "422849              1  \n",
       "1772714             4  \n",
       "828325              1  \n",
       "659831              1  "
      ]
     },
     "execution_count": 181,
     "metadata": {},
     "output_type": "execute_result"
    }
   ],
   "source": [
    "df_val.head()"
   ]
  },
  {
   "cell_type": "markdown",
   "id": "90036371",
   "metadata": {},
   "source": [
    "\n",
    "### <font color='#F59B46'>Probemos una prediccion</font>"
   ]
  },
  {
   "cell_type": "code",
   "execution_count": 182,
   "id": "501e1487",
   "metadata": {},
   "outputs": [],
   "source": [
    "user_id = \"76bc893a4163b46d5474d501e1d11456546b50d2\"\n",
    "song_id = \"SONUHDN12AB01800D7\""
   ]
  },
  {
   "cell_type": "code",
   "execution_count": 183,
   "id": "92d4be3e",
   "metadata": {},
   "outputs": [
    {
     "name": "stdout",
     "output_type": "stream",
     "text": [
      "user: 76bc893a4163b46d5474d501e1d11456546b50d2 item: SONUHDN12AB01800D7 r_ui = 4.00   est = 2.77   {'was_impossible': False}\n",
      "La calificacion estimada del usuario es 2.773455112439672\n"
     ]
    }
   ],
   "source": [
    "pred = algo.predict(user_id, song_id, r_ui=4, verbose=True)\n",
    "x = [pred.iid, pred.est]\n",
    "print(f\"La calificacion estimada del usuario es {pred[3]}\")"
   ]
  },
  {
   "cell_type": "markdown",
   "id": "5d432f50",
   "metadata": {},
   "source": [
    "### <font color='#F59B46'>Ahora hagamos el sistema de recomendacion, en el que le damos un usuario y nos recomienda las 10 mejores canciones para dicho usuario</font>"
   ]
  },
  {
   "cell_type": "code",
   "execution_count": 184,
   "id": "ca4c63b8",
   "metadata": {},
   "outputs": [
    {
     "data": {
      "text/plain": [
       "10000"
      ]
     },
     "execution_count": 184,
     "metadata": {},
     "output_type": "execute_result"
    }
   ],
   "source": [
    "canciones = df[\"song_id\"].unique()\n",
    "canciones.size"
   ]
  },
  {
   "cell_type": "code",
   "execution_count": 185,
   "id": "8732c997",
   "metadata": {},
   "outputs": [],
   "source": [
    "def musicRecommendationSystem(user):\n",
    "    \n",
    "    #Obtener los ids de las canciones recomendadas\n",
    "    idsRecomendadas = []\n",
    "    for i in range(0,canciones.size):\n",
    "        pred = algo.predict(user, canciones[i], r_ui=4, verbose=False)\n",
    "        idsRecomendadas.append([pred.iid, pred.est])\n",
    "    myvar = pd.DataFrame(idsRecomendadas, columns=['song_id', 'calif']).sort_values(by=['calif'], ascending=False)\n",
    "    recomendadas = myvar.head(10)\n",
    "    \n",
    "    #De los ids, obtener el nombre, album y artista\n",
    "    song_ids = recomendadas['song_id']\n",
    "    filtered_songs = df_songs[df_songs['song_id'].isin(song_ids)][['title', 'release', 'artist_name']]\n",
    "    \n",
    "\n",
    "    return filtered_songs"
   ]
  },
  {
   "cell_type": "markdown",
   "id": "eac073f9",
   "metadata": {},
   "source": [
    "### <font color='#F59B46'>Probemoslo con dos usuarios</font>"
   ]
  },
  {
   "cell_type": "code",
   "execution_count": 186,
   "id": "33d06ff8",
   "metadata": {},
   "outputs": [
    {
     "data": {
      "text/html": [
       "<div>\n",
       "<style scoped>\n",
       "    .dataframe tbody tr th:only-of-type {\n",
       "        vertical-align: middle;\n",
       "    }\n",
       "\n",
       "    .dataframe tbody tr th {\n",
       "        vertical-align: top;\n",
       "    }\n",
       "\n",
       "    .dataframe thead th {\n",
       "        text-align: right;\n",
       "    }\n",
       "</style>\n",
       "<table border=\"1\" class=\"dataframe\">\n",
       "  <thead>\n",
       "    <tr style=\"text-align: right;\">\n",
       "      <th></th>\n",
       "      <th>title</th>\n",
       "      <th>release</th>\n",
       "      <th>artist_name</th>\n",
       "    </tr>\n",
       "  </thead>\n",
       "  <tbody>\n",
       "    <tr>\n",
       "      <th>222242</th>\n",
       "      <td>16 Candles</td>\n",
       "      <td>16 Candles</td>\n",
       "      <td>The Crests</td>\n",
       "    </tr>\n",
       "    <tr>\n",
       "      <th>301525</th>\n",
       "      <td>Crumpshit</td>\n",
       "      <td>Lonely Day</td>\n",
       "      <td>Philippe Rochard</td>\n",
       "    </tr>\n",
       "    <tr>\n",
       "      <th>335297</th>\n",
       "      <td>Right Here Waiting (Single Edit)</td>\n",
       "      <td>Playlist: Ballads</td>\n",
       "      <td>Richard Marx</td>\n",
       "    </tr>\n",
       "    <tr>\n",
       "      <th>367833</th>\n",
       "      <td>Novocaine</td>\n",
       "      <td>In Search Of Sunrise 5 - Los Angeles</td>\n",
       "      <td>Kalafut</td>\n",
       "    </tr>\n",
       "    <tr>\n",
       "      <th>484965</th>\n",
       "      <td>Bros Sto Rimagmeno Spiti (2003 Digital Remaster)</td>\n",
       "      <td>50 Hronia Rebetiko Tragoudi</td>\n",
       "      <td>George Dalaras</td>\n",
       "    </tr>\n",
       "    <tr>\n",
       "      <th>541316</th>\n",
       "      <td>Colors Of The Wind</td>\n",
       "      <td>The Magic Of Disney</td>\n",
       "      <td>Vanessa Williams</td>\n",
       "    </tr>\n",
       "    <tr>\n",
       "      <th>629260</th>\n",
       "      <td>Satisfaction</td>\n",
       "      <td>Hypnotica</td>\n",
       "      <td>Benny Benassi Presents The Biz</td>\n",
       "    </tr>\n",
       "    <tr>\n",
       "      <th>771510</th>\n",
       "      <td>Nobody (Featuring Athena Cage) (LP Version)</td>\n",
       "      <td>Keith Sweat</td>\n",
       "      <td>Keith Sweat Featuring Athena Cage</td>\n",
       "    </tr>\n",
       "    <tr>\n",
       "      <th>888199</th>\n",
       "      <td>Mamma</td>\n",
       "      <td>Tijd</td>\n",
       "      <td>Bram Vermeulen</td>\n",
       "    </tr>\n",
       "    <tr>\n",
       "      <th>894992</th>\n",
       "      <td>221</td>\n",
       "      <td>Spun</td>\n",
       "      <td>keller williams</td>\n",
       "    </tr>\n",
       "  </tbody>\n",
       "</table>\n",
       "</div>"
      ],
      "text/plain": [
       "                                                   title  \\\n",
       "222242                                        16 Candles   \n",
       "301525                                         Crumpshit   \n",
       "335297                  Right Here Waiting (Single Edit)   \n",
       "367833                                         Novocaine   \n",
       "484965  Bros Sto Rimagmeno Spiti (2003 Digital Remaster)   \n",
       "541316                                Colors Of The Wind   \n",
       "629260                                      Satisfaction   \n",
       "771510       Nobody (Featuring Athena Cage) (LP Version)   \n",
       "888199                                             Mamma   \n",
       "894992                                               221   \n",
       "\n",
       "                                     release  \\\n",
       "222242                            16 Candles   \n",
       "301525                            Lonely Day   \n",
       "335297                     Playlist: Ballads   \n",
       "367833  In Search Of Sunrise 5 - Los Angeles   \n",
       "484965           50 Hronia Rebetiko Tragoudi   \n",
       "541316                   The Magic Of Disney   \n",
       "629260                             Hypnotica   \n",
       "771510                           Keith Sweat   \n",
       "888199                                  Tijd   \n",
       "894992                                  Spun   \n",
       "\n",
       "                              artist_name  \n",
       "222242                         The Crests  \n",
       "301525                   Philippe Rochard  \n",
       "335297                       Richard Marx  \n",
       "367833                            Kalafut  \n",
       "484965                     George Dalaras  \n",
       "541316                   Vanessa Williams  \n",
       "629260     Benny Benassi Presents The Biz  \n",
       "771510  Keith Sweat Featuring Athena Cage  \n",
       "888199                     Bram Vermeulen  \n",
       "894992                    keller williams  "
      ]
     },
     "execution_count": 186,
     "metadata": {},
     "output_type": "execute_result"
    }
   ],
   "source": [
    "userPrueba = 'c6c9c2f0cb0174cc67f4bd803431e709438ba360'\n",
    "\n",
    "musicRecommendationSystem(userPrueba)"
   ]
  },
  {
   "cell_type": "code",
   "execution_count": 187,
   "id": "67b2819a",
   "metadata": {},
   "outputs": [
    {
     "data": {
      "text/html": [
       "<div>\n",
       "<style scoped>\n",
       "    .dataframe tbody tr th:only-of-type {\n",
       "        vertical-align: middle;\n",
       "    }\n",
       "\n",
       "    .dataframe tbody tr th {\n",
       "        vertical-align: top;\n",
       "    }\n",
       "\n",
       "    .dataframe thead th {\n",
       "        text-align: right;\n",
       "    }\n",
       "</style>\n",
       "<table border=\"1\" class=\"dataframe\">\n",
       "  <thead>\n",
       "    <tr style=\"text-align: right;\">\n",
       "      <th></th>\n",
       "      <th>title</th>\n",
       "      <th>release</th>\n",
       "      <th>artist_name</th>\n",
       "    </tr>\n",
       "  </thead>\n",
       "  <tbody>\n",
       "    <tr>\n",
       "      <th>388134</th>\n",
       "      <td>Working With Homesick</td>\n",
       "      <td>Blues On The South Side</td>\n",
       "      <td>Homesick James</td>\n",
       "    </tr>\n",
       "    <tr>\n",
       "      <th>484965</th>\n",
       "      <td>Bros Sto Rimagmeno Spiti (2003 Digital Remaster)</td>\n",
       "      <td>50 Hronia Rebetiko Tragoudi</td>\n",
       "      <td>George Dalaras</td>\n",
       "    </tr>\n",
       "    <tr>\n",
       "      <th>531294</th>\n",
       "      <td>Interactive Halloween Bear</td>\n",
       "      <td>TV Loves You Back</td>\n",
       "      <td>Restiform Bodies</td>\n",
       "    </tr>\n",
       "    <tr>\n",
       "      <th>547981</th>\n",
       "      <td>Encore Break</td>\n",
       "      <td>Live At Benaroya Hall - Oct.22_ 2003</td>\n",
       "      <td>Pearl Jam</td>\n",
       "    </tr>\n",
       "    <tr>\n",
       "      <th>555899</th>\n",
       "      <td>Como Un Sueño (Am I Dreaming)</td>\n",
       "      <td>9 Lives</td>\n",
       "      <td>Kat DeLuna</td>\n",
       "    </tr>\n",
       "    <tr>\n",
       "      <th>556707</th>\n",
       "      <td>Death Ain't No Big Deal (Tribute To Jake Hess ...</td>\n",
       "      <td>Tribute To Jake Hess</td>\n",
       "      <td>Jake Hess</td>\n",
       "    </tr>\n",
       "    <tr>\n",
       "      <th>573462</th>\n",
       "      <td>Better To Reign In Hell</td>\n",
       "      <td>Damnation And A Day</td>\n",
       "      <td>Cradle Of Filth</td>\n",
       "    </tr>\n",
       "    <tr>\n",
       "      <th>762247</th>\n",
       "      <td>Kelma</td>\n",
       "      <td>Made In Medina / Ole Ole</td>\n",
       "      <td>Rachid Taha</td>\n",
       "    </tr>\n",
       "    <tr>\n",
       "      <th>797668</th>\n",
       "      <td>Recado Falado (Metrô Da Saudade)</td>\n",
       "      <td>2 Em 1</td>\n",
       "      <td>Alceu Valença</td>\n",
       "    </tr>\n",
       "    <tr>\n",
       "      <th>894992</th>\n",
       "      <td>221</td>\n",
       "      <td>Spun</td>\n",
       "      <td>keller williams</td>\n",
       "    </tr>\n",
       "  </tbody>\n",
       "</table>\n",
       "</div>"
      ],
      "text/plain": [
       "                                                    title  \\\n",
       "388134                              Working With Homesick   \n",
       "484965   Bros Sto Rimagmeno Spiti (2003 Digital Remaster)   \n",
       "531294                         Interactive Halloween Bear   \n",
       "547981                                       Encore Break   \n",
       "555899                      Como Un Sueño (Am I Dreaming)   \n",
       "556707  Death Ain't No Big Deal (Tribute To Jake Hess ...   \n",
       "573462                            Better To Reign In Hell   \n",
       "762247                                              Kelma   \n",
       "797668                   Recado Falado (Metrô Da Saudade)   \n",
       "894992                                                221   \n",
       "\n",
       "                                     release       artist_name  \n",
       "388134               Blues On The South Side    Homesick James  \n",
       "484965           50 Hronia Rebetiko Tragoudi    George Dalaras  \n",
       "531294                     TV Loves You Back  Restiform Bodies  \n",
       "547981  Live At Benaroya Hall - Oct.22_ 2003         Pearl Jam  \n",
       "555899                               9 Lives        Kat DeLuna  \n",
       "556707                  Tribute To Jake Hess         Jake Hess  \n",
       "573462                   Damnation And A Day   Cradle Of Filth  \n",
       "762247              Made In Medina / Ole Ole       Rachid Taha  \n",
       "797668                                2 Em 1     Alceu Valença  \n",
       "894992                                  Spun   keller williams  "
      ]
     },
     "execution_count": 187,
     "metadata": {},
     "output_type": "execute_result"
    }
   ],
   "source": [
    "userPrueba1 = '36f4f0163fe74c1f88c49b5c79ca00f9fa304d13'\n",
    "\n",
    "musicRecommendationSystem(userPrueba1)"
   ]
  },
  {
   "cell_type": "code",
   "execution_count": null,
   "id": "ff748875",
   "metadata": {},
   "outputs": [],
   "source": []
  },
  {
   "cell_type": "code",
   "execution_count": null,
   "id": "84e8be13",
   "metadata": {},
   "outputs": [],
   "source": []
  }
 ],
 "metadata": {
  "kernelspec": {
   "display_name": "Python 3 (ipykernel)",
   "language": "python",
   "name": "python3"
  },
  "language_info": {
   "codemirror_mode": {
    "name": "ipython",
    "version": 3
   },
   "file_extension": ".py",
   "mimetype": "text/x-python",
   "name": "python",
   "nbconvert_exporter": "python",
   "pygments_lexer": "ipython3",
   "version": "3.11.5"
  }
 },
 "nbformat": 4,
 "nbformat_minor": 5
}
